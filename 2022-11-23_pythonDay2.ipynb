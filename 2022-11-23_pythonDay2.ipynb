{
 "cells": [
  {
   "cell_type": "markdown",
   "metadata": {},
   "source": [
    "# Python Day 2: Python Scientific Computing"
   ]
  },
  {
   "cell_type": "markdown",
   "metadata": {},
   "source": [
    "# Pandas cont.\n",
    "#### Working with dataframes"
   ]
  },
  {
   "cell_type": "code",
   "execution_count": 5,
   "metadata": {},
   "outputs": [],
   "source": [
    "import pandas as pd\n",
    "import numpy as np"
   ]
  },
  {
   "cell_type": "code",
   "execution_count": 4,
   "metadata": {},
   "outputs": [],
   "source": [
    "dates = pd.date_range('20130101', periods=6)"
   ]
  },
  {
   "cell_type": "code",
   "execution_count": 8,
   "metadata": {},
   "outputs": [
    {
     "data": {
      "text/html": [
       "<div>\n",
       "<style scoped>\n",
       "    .dataframe tbody tr th:only-of-type {\n",
       "        vertical-align: middle;\n",
       "    }\n",
       "\n",
       "    .dataframe tbody tr th {\n",
       "        vertical-align: top;\n",
       "    }\n",
       "\n",
       "    .dataframe thead th {\n",
       "        text-align: right;\n",
       "    }\n",
       "</style>\n",
       "<table border=\"1\" class=\"dataframe\">\n",
       "  <thead>\n",
       "    <tr style=\"text-align: right;\">\n",
       "      <th></th>\n",
       "      <th>A</th>\n",
       "      <th>B</th>\n",
       "      <th>C</th>\n",
       "      <th>D</th>\n",
       "    </tr>\n",
       "  </thead>\n",
       "  <tbody>\n",
       "    <tr>\n",
       "      <th>2013-01-01</th>\n",
       "      <td>0.517776</td>\n",
       "      <td>-0.018428</td>\n",
       "      <td>-0.548433</td>\n",
       "      <td>0.338979</td>\n",
       "    </tr>\n",
       "    <tr>\n",
       "      <th>2013-01-02</th>\n",
       "      <td>-0.322453</td>\n",
       "      <td>1.641127</td>\n",
       "      <td>0.025027</td>\n",
       "      <td>-0.749544</td>\n",
       "    </tr>\n",
       "    <tr>\n",
       "      <th>2013-01-03</th>\n",
       "      <td>-0.493683</td>\n",
       "      <td>-0.956455</td>\n",
       "      <td>-0.016117</td>\n",
       "      <td>0.074856</td>\n",
       "    </tr>\n",
       "    <tr>\n",
       "      <th>2013-01-04</th>\n",
       "      <td>1.156910</td>\n",
       "      <td>-0.253206</td>\n",
       "      <td>0.107295</td>\n",
       "      <td>0.179756</td>\n",
       "    </tr>\n",
       "    <tr>\n",
       "      <th>2013-01-05</th>\n",
       "      <td>1.395810</td>\n",
       "      <td>-1.204975</td>\n",
       "      <td>1.049599</td>\n",
       "      <td>0.028845</td>\n",
       "    </tr>\n",
       "    <tr>\n",
       "      <th>2013-01-06</th>\n",
       "      <td>0.716609</td>\n",
       "      <td>0.648520</td>\n",
       "      <td>0.989639</td>\n",
       "      <td>0.433751</td>\n",
       "    </tr>\n",
       "  </tbody>\n",
       "</table>\n",
       "</div>"
      ],
      "text/plain": [
       "                   A         B         C         D\n",
       "2013-01-01  0.517776 -0.018428 -0.548433  0.338979\n",
       "2013-01-02 -0.322453  1.641127  0.025027 -0.749544\n",
       "2013-01-03 -0.493683 -0.956455 -0.016117  0.074856\n",
       "2013-01-04  1.156910 -0.253206  0.107295  0.179756\n",
       "2013-01-05  1.395810 -1.204975  1.049599  0.028845\n",
       "2013-01-06  0.716609  0.648520  0.989639  0.433751"
      ]
     },
     "execution_count": 8,
     "metadata": {},
     "output_type": "execute_result"
    }
   ],
   "source": [
    "df = pd.DataFrame(np.random.randn(6, 4), index = dates, columns=list('ABCD'))\n",
    "df"
   ]
  },
  {
   "cell_type": "code",
   "execution_count": 10,
   "metadata": {},
   "outputs": [
    {
     "data": {
      "text/html": [
       "<div>\n",
       "<style scoped>\n",
       "    .dataframe tbody tr th:only-of-type {\n",
       "        vertical-align: middle;\n",
       "    }\n",
       "\n",
       "    .dataframe tbody tr th {\n",
       "        vertical-align: top;\n",
       "    }\n",
       "\n",
       "    .dataframe thead th {\n",
       "        text-align: right;\n",
       "    }\n",
       "</style>\n",
       "<table border=\"1\" class=\"dataframe\">\n",
       "  <thead>\n",
       "    <tr style=\"text-align: right;\">\n",
       "      <th></th>\n",
       "      <th>A</th>\n",
       "      <th>B</th>\n",
       "      <th>C</th>\n",
       "      <th>D</th>\n",
       "      <th>E</th>\n",
       "    </tr>\n",
       "  </thead>\n",
       "  <tbody>\n",
       "    <tr>\n",
       "      <th>0</th>\n",
       "      <td>dog</td>\n",
       "      <td>one</td>\n",
       "      <td>3</td>\n",
       "      <td>1.350758</td>\n",
       "      <td>1.151918</td>\n",
       "    </tr>\n",
       "    <tr>\n",
       "      <th>1</th>\n",
       "      <td>cat</td>\n",
       "      <td>one</td>\n",
       "      <td>3</td>\n",
       "      <td>-0.803389</td>\n",
       "      <td>-0.110073</td>\n",
       "    </tr>\n",
       "    <tr>\n",
       "      <th>2</th>\n",
       "      <td>dog</td>\n",
       "      <td>two</td>\n",
       "      <td>3</td>\n",
       "      <td>-0.408845</td>\n",
       "      <td>-0.400606</td>\n",
       "    </tr>\n",
       "    <tr>\n",
       "      <th>3</th>\n",
       "      <td>cat</td>\n",
       "      <td>three</td>\n",
       "      <td>3</td>\n",
       "      <td>0.639434</td>\n",
       "      <td>-0.408994</td>\n",
       "    </tr>\n",
       "    <tr>\n",
       "      <th>4</th>\n",
       "      <td>dog</td>\n",
       "      <td>two</td>\n",
       "      <td>3</td>\n",
       "      <td>0.317245</td>\n",
       "      <td>0.557834</td>\n",
       "    </tr>\n",
       "    <tr>\n",
       "      <th>5</th>\n",
       "      <td>cat</td>\n",
       "      <td>two</td>\n",
       "      <td>3</td>\n",
       "      <td>-0.433767</td>\n",
       "      <td>0.264291</td>\n",
       "    </tr>\n",
       "    <tr>\n",
       "      <th>6</th>\n",
       "      <td>dog</td>\n",
       "      <td>one</td>\n",
       "      <td>3</td>\n",
       "      <td>-0.239010</td>\n",
       "      <td>-0.737709</td>\n",
       "    </tr>\n",
       "    <tr>\n",
       "      <th>7</th>\n",
       "      <td>dog</td>\n",
       "      <td>three</td>\n",
       "      <td>3</td>\n",
       "      <td>-0.032704</td>\n",
       "      <td>-0.535944</td>\n",
       "    </tr>\n",
       "  </tbody>\n",
       "</table>\n",
       "</div>"
      ],
      "text/plain": [
       "     A      B  C         D         E\n",
       "0  dog    one  3  1.350758  1.151918\n",
       "1  cat    one  3 -0.803389 -0.110073\n",
       "2  dog    two  3 -0.408845 -0.400606\n",
       "3  cat  three  3  0.639434 -0.408994\n",
       "4  dog    two  3  0.317245  0.557834\n",
       "5  cat    two  3 -0.433767  0.264291\n",
       "6  dog    one  3 -0.239010 -0.737709\n",
       "7  dog  three  3 -0.032704 -0.535944"
      ]
     },
     "execution_count": 10,
     "metadata": {},
     "output_type": "execute_result"
    }
   ],
   "source": [
    "df = pd.DataFrame({'A': ['dog', 'cat', 'dog', 'cat', 'dog', 'cat', 'dog', 'dog'],\n",
    "                   'B': ['one', 'one', 'two', 'three', 'two', 'two', 'one', 'three'],\n",
    "                   'C': np.array([3] * 8, dtype='int32'),\n",
    "                   'D': np.random.randn(8),\n",
    "                   'E': np.random.randn(8)})\n",
    "df"
   ]
  },
  {
   "cell_type": "code",
   "execution_count": 14,
   "metadata": {},
   "outputs": [
    {
     "data": {
      "text/html": [
       "<div>\n",
       "<style scoped>\n",
       "    .dataframe tbody tr th:only-of-type {\n",
       "        vertical-align: middle;\n",
       "    }\n",
       "\n",
       "    .dataframe tbody tr th {\n",
       "        vertical-align: top;\n",
       "    }\n",
       "\n",
       "    .dataframe thead th {\n",
       "        text-align: right;\n",
       "    }\n",
       "</style>\n",
       "<table border=\"1\" class=\"dataframe\">\n",
       "  <thead>\n",
       "    <tr style=\"text-align: right;\">\n",
       "      <th></th>\n",
       "      <th>A</th>\n",
       "      <th>B</th>\n",
       "      <th>C</th>\n",
       "      <th>D</th>\n",
       "      <th>E</th>\n",
       "    </tr>\n",
       "  </thead>\n",
       "  <tbody>\n",
       "    <tr>\n",
       "      <th>0</th>\n",
       "      <td>dog</td>\n",
       "      <td>one</td>\n",
       "      <td>3</td>\n",
       "      <td>1.350758</td>\n",
       "      <td>1.151918</td>\n",
       "    </tr>\n",
       "    <tr>\n",
       "      <th>1</th>\n",
       "      <td>cat</td>\n",
       "      <td>one</td>\n",
       "      <td>3</td>\n",
       "      <td>-0.803389</td>\n",
       "      <td>-0.110073</td>\n",
       "    </tr>\n",
       "    <tr>\n",
       "      <th>2</th>\n",
       "      <td>dog</td>\n",
       "      <td>two</td>\n",
       "      <td>3</td>\n",
       "      <td>-0.408845</td>\n",
       "      <td>-0.400606</td>\n",
       "    </tr>\n",
       "    <tr>\n",
       "      <th>3</th>\n",
       "      <td>cat</td>\n",
       "      <td>three</td>\n",
       "      <td>3</td>\n",
       "      <td>0.639434</td>\n",
       "      <td>-0.408994</td>\n",
       "    </tr>\n",
       "    <tr>\n",
       "      <th>4</th>\n",
       "      <td>dog</td>\n",
       "      <td>two</td>\n",
       "      <td>3</td>\n",
       "      <td>0.317245</td>\n",
       "      <td>0.557834</td>\n",
       "    </tr>\n",
       "    <tr>\n",
       "      <th>5</th>\n",
       "      <td>cat</td>\n",
       "      <td>two</td>\n",
       "      <td>3</td>\n",
       "      <td>-0.433767</td>\n",
       "      <td>0.264291</td>\n",
       "    </tr>\n",
       "    <tr>\n",
       "      <th>6</th>\n",
       "      <td>dog</td>\n",
       "      <td>one</td>\n",
       "      <td>3</td>\n",
       "      <td>-0.239010</td>\n",
       "      <td>-0.737709</td>\n",
       "    </tr>\n",
       "    <tr>\n",
       "      <th>7</th>\n",
       "      <td>dog</td>\n",
       "      <td>three</td>\n",
       "      <td>3</td>\n",
       "      <td>-0.032704</td>\n",
       "      <td>-0.535944</td>\n",
       "    </tr>\n",
       "  </tbody>\n",
       "</table>\n",
       "</div>"
      ],
      "text/plain": [
       "     A      B  C         D         E\n",
       "0  dog    one  3  1.350758  1.151918\n",
       "1  cat    one  3 -0.803389 -0.110073\n",
       "2  dog    two  3 -0.408845 -0.400606\n",
       "3  cat  three  3  0.639434 -0.408994\n",
       "4  dog    two  3  0.317245  0.557834\n",
       "5  cat    two  3 -0.433767  0.264291\n",
       "6  dog    one  3 -0.239010 -0.737709\n",
       "7  dog  three  3 -0.032704 -0.535944"
      ]
     },
     "execution_count": 14,
     "metadata": {},
     "output_type": "execute_result"
    }
   ],
   "source": [
    "sub1, sub2, sub3 = df[:2], df[2:4], df[4:]\n",
    "pd.concat([sub1, sub2, sub3])\n",
    "sub1.append([sub2, sub3])"
   ]
  },
  {
   "cell_type": "code",
   "execution_count": 25,
   "metadata": {},
   "outputs": [
    {
     "data": {
      "text/html": [
       "<div>\n",
       "<style scoped>\n",
       "    .dataframe tbody tr th:only-of-type {\n",
       "        vertical-align: middle;\n",
       "    }\n",
       "\n",
       "    .dataframe tbody tr th {\n",
       "        vertical-align: top;\n",
       "    }\n",
       "\n",
       "    .dataframe thead th {\n",
       "        text-align: right;\n",
       "    }\n",
       "</style>\n",
       "<table border=\"1\" class=\"dataframe\">\n",
       "  <thead>\n",
       "    <tr style=\"text-align: right;\">\n",
       "      <th></th>\n",
       "      <th>Runner</th>\n",
       "      <th>400</th>\n",
       "      <th>800</th>\n",
       "      <th>1200</th>\n",
       "      <th>1500</th>\n",
       "    </tr>\n",
       "  </thead>\n",
       "  <tbody>\n",
       "    <tr>\n",
       "      <th>0</th>\n",
       "      <td>Runner 1</td>\n",
       "      <td>64</td>\n",
       "      <td>128</td>\n",
       "      <td>192</td>\n",
       "      <td>240</td>\n",
       "    </tr>\n",
       "    <tr>\n",
       "      <th>1</th>\n",
       "      <td>Runner 2</td>\n",
       "      <td>80</td>\n",
       "      <td>160</td>\n",
       "      <td>240</td>\n",
       "      <td>300</td>\n",
       "    </tr>\n",
       "    <tr>\n",
       "      <th>2</th>\n",
       "      <td>Runner 3</td>\n",
       "      <td>96</td>\n",
       "      <td>192</td>\n",
       "      <td>288</td>\n",
       "      <td>360</td>\n",
       "    </tr>\n",
       "  </tbody>\n",
       "</table>\n",
       "</div>"
      ],
      "text/plain": [
       "     Runner  400  800  1200  1500\n",
       "0  Runner 1   64  128   192   240\n",
       "1  Runner 2   80  160   240   300\n",
       "2  Runner 3   96  192   288   360"
      ]
     },
     "execution_count": 25,
     "metadata": {},
     "output_type": "execute_result"
    }
   ],
   "source": [
    "runners = pd.DataFrame([\n",
    "              {'Runner': 'Runner 1', 400: 64, 800: 128, 1200: 192, 1500: 240},\n",
    "              {'Runner': 'Runner 2', 400: 80, 800: 160, 1200: 240, 1500: 300},\n",
    "              {'Runner': 'Runner 3', 400: 96, 800: 192, 1200: 288, 1500: 360},\n",
    "          ])\n",
    "runners"
   ]
  },
  {
   "cell_type": "code",
   "execution_count": 26,
   "metadata": {},
   "outputs": [],
   "source": [
    "runners = pd.melt(runners, id_vars=\"Runner\",\n",
    "              value_vars=[400, 800, 1200, 1500],\n",
    "              var_name=\"distance\",\n",
    "              value_name=\"time\"\n",
    "          )"
   ]
  },
  {
   "cell_type": "code",
   "execution_count": 27,
   "metadata": {},
   "outputs": [],
   "source": [
    "age = pd.DataFrame([\n",
    "    {\"Runner\": \"Runner 4\", \"Age\": 18},\n",
    "    {\"Runner\": \"Runner 2\", \"Age\": 21},\n",
    "    {\"Runner\": \"Runner 1\", \"Age\": 23},\n",
    "    {\"Runner\": \"Runner 3\", \"Age\": 19},\n",
    "])"
   ]
  },
  {
   "cell_type": "code",
   "execution_count": 28,
   "metadata": {},
   "outputs": [
    {
     "data": {
      "text/html": [
       "<div>\n",
       "<style scoped>\n",
       "    .dataframe tbody tr th:only-of-type {\n",
       "        vertical-align: middle;\n",
       "    }\n",
       "\n",
       "    .dataframe tbody tr th {\n",
       "        vertical-align: top;\n",
       "    }\n",
       "\n",
       "    .dataframe thead th {\n",
       "        text-align: right;\n",
       "    }\n",
       "</style>\n",
       "<table border=\"1\" class=\"dataframe\">\n",
       "  <thead>\n",
       "    <tr style=\"text-align: right;\">\n",
       "      <th></th>\n",
       "      <th>Runner</th>\n",
       "      <th>distance</th>\n",
       "      <th>time</th>\n",
       "      <th>Age</th>\n",
       "    </tr>\n",
       "  </thead>\n",
       "  <tbody>\n",
       "    <tr>\n",
       "      <th>0</th>\n",
       "      <td>Runner 1</td>\n",
       "      <td>400</td>\n",
       "      <td>64</td>\n",
       "      <td>23</td>\n",
       "    </tr>\n",
       "    <tr>\n",
       "      <th>1</th>\n",
       "      <td>Runner 1</td>\n",
       "      <td>800</td>\n",
       "      <td>128</td>\n",
       "      <td>23</td>\n",
       "    </tr>\n",
       "    <tr>\n",
       "      <th>2</th>\n",
       "      <td>Runner 1</td>\n",
       "      <td>1200</td>\n",
       "      <td>192</td>\n",
       "      <td>23</td>\n",
       "    </tr>\n",
       "    <tr>\n",
       "      <th>3</th>\n",
       "      <td>Runner 1</td>\n",
       "      <td>1500</td>\n",
       "      <td>240</td>\n",
       "      <td>23</td>\n",
       "    </tr>\n",
       "    <tr>\n",
       "      <th>4</th>\n",
       "      <td>Runner 2</td>\n",
       "      <td>400</td>\n",
       "      <td>80</td>\n",
       "      <td>21</td>\n",
       "    </tr>\n",
       "    <tr>\n",
       "      <th>5</th>\n",
       "      <td>Runner 2</td>\n",
       "      <td>800</td>\n",
       "      <td>160</td>\n",
       "      <td>21</td>\n",
       "    </tr>\n",
       "    <tr>\n",
       "      <th>6</th>\n",
       "      <td>Runner 2</td>\n",
       "      <td>1200</td>\n",
       "      <td>240</td>\n",
       "      <td>21</td>\n",
       "    </tr>\n",
       "    <tr>\n",
       "      <th>7</th>\n",
       "      <td>Runner 2</td>\n",
       "      <td>1500</td>\n",
       "      <td>300</td>\n",
       "      <td>21</td>\n",
       "    </tr>\n",
       "    <tr>\n",
       "      <th>8</th>\n",
       "      <td>Runner 3</td>\n",
       "      <td>400</td>\n",
       "      <td>96</td>\n",
       "      <td>19</td>\n",
       "    </tr>\n",
       "    <tr>\n",
       "      <th>9</th>\n",
       "      <td>Runner 3</td>\n",
       "      <td>800</td>\n",
       "      <td>192</td>\n",
       "      <td>19</td>\n",
       "    </tr>\n",
       "    <tr>\n",
       "      <th>10</th>\n",
       "      <td>Runner 3</td>\n",
       "      <td>1200</td>\n",
       "      <td>288</td>\n",
       "      <td>19</td>\n",
       "    </tr>\n",
       "    <tr>\n",
       "      <th>11</th>\n",
       "      <td>Runner 3</td>\n",
       "      <td>1500</td>\n",
       "      <td>360</td>\n",
       "      <td>19</td>\n",
       "    </tr>\n",
       "  </tbody>\n",
       "</table>\n",
       "</div>"
      ],
      "text/plain": [
       "      Runner distance  time  Age\n",
       "0   Runner 1      400    64   23\n",
       "1   Runner 1      800   128   23\n",
       "2   Runner 1     1200   192   23\n",
       "3   Runner 1     1500   240   23\n",
       "4   Runner 2      400    80   21\n",
       "5   Runner 2      800   160   21\n",
       "6   Runner 2     1200   240   21\n",
       "7   Runner 2     1500   300   21\n",
       "8   Runner 3      400    96   19\n",
       "9   Runner 3      800   192   19\n",
       "10  Runner 3     1200   288   19\n",
       "11  Runner 3     1500   360   19"
      ]
     },
     "execution_count": 28,
     "metadata": {},
     "output_type": "execute_result"
    }
   ],
   "source": [
    "# Add the age for each runner\n",
    "runners.merge(age, on=\"Runner\")"
   ]
  },
  {
   "cell_type": "code",
   "execution_count": 33,
   "metadata": {},
   "outputs": [],
   "source": [
    "url = \"https://raw.githubusercontent.com/pandas-dev/pandas/master/doc/data/titanic.csv\"\n",
    "titanic = pd.read_csv(url, index_col='Name')"
   ]
  },
  {
   "cell_type": "code",
   "execution_count": 34,
   "metadata": {},
   "outputs": [],
   "source": [
    "titanic[\"Child\"] = titanic[\"Age\"] < 12"
   ]
  },
  {
   "cell_type": "code",
   "execution_count": 37,
   "metadata": {},
   "outputs": [
    {
     "data": {
      "text/plain": [
       "Sex     Child\n",
       "female  False    0.758865\n",
       "        True     0.593750\n",
       "male    False    0.164510\n",
       "        True     0.555556\n",
       "Name: Survived, dtype: float64"
      ]
     },
     "execution_count": 37,
     "metadata": {},
     "output_type": "execute_result"
    }
   ],
   "source": [
    "titanic.groupby([\"Sex\", \"Child\"])[\"Survived\"].mean()"
   ]
  },
  {
   "cell_type": "markdown",
   "metadata": {},
   "source": [
    "## Exercise 2"
   ]
  },
  {
   "cell_type": "code",
   "execution_count": 63,
   "metadata": {},
   "outputs": [
    {
     "data": {
      "text/plain": [
       "array([1, 0, 3, 4, 2, 5, 8])"
      ]
     },
     "execution_count": 63,
     "metadata": {},
     "output_type": "execute_result"
    }
   ],
   "source": [
    "titanic[\"SibSp\"].unique()"
   ]
  },
  {
   "cell_type": "code",
   "execution_count": 64,
   "metadata": {},
   "outputs": [
    {
     "data": {
      "text/html": [
       "<div>\n",
       "<style scoped>\n",
       "    .dataframe tbody tr th:only-of-type {\n",
       "        vertical-align: middle;\n",
       "    }\n",
       "\n",
       "    .dataframe tbody tr th {\n",
       "        vertical-align: top;\n",
       "    }\n",
       "\n",
       "    .dataframe thead th {\n",
       "        text-align: right;\n",
       "    }\n",
       "</style>\n",
       "<table border=\"1\" class=\"dataframe\">\n",
       "  <thead>\n",
       "    <tr style=\"text-align: right;\">\n",
       "      <th></th>\n",
       "      <th>PassengerId</th>\n",
       "      <th>Survived</th>\n",
       "      <th>Pclass</th>\n",
       "      <th>Sex</th>\n",
       "      <th>Age</th>\n",
       "      <th>SibSp</th>\n",
       "      <th>Parch</th>\n",
       "      <th>Ticket</th>\n",
       "      <th>Fare</th>\n",
       "      <th>Cabin</th>\n",
       "      <th>Embarked</th>\n",
       "      <th>Child</th>\n",
       "    </tr>\n",
       "    <tr>\n",
       "      <th>Name</th>\n",
       "      <th></th>\n",
       "      <th></th>\n",
       "      <th></th>\n",
       "      <th></th>\n",
       "      <th></th>\n",
       "      <th></th>\n",
       "      <th></th>\n",
       "      <th></th>\n",
       "      <th></th>\n",
       "      <th></th>\n",
       "      <th></th>\n",
       "      <th></th>\n",
       "    </tr>\n",
       "  </thead>\n",
       "  <tbody>\n",
       "    <tr>\n",
       "      <th>Sage, Master. Thomas Henry</th>\n",
       "      <td>160</td>\n",
       "      <td>0</td>\n",
       "      <td>3</td>\n",
       "      <td>male</td>\n",
       "      <td>NaN</td>\n",
       "      <td>8</td>\n",
       "      <td>2</td>\n",
       "      <td>CA. 2343</td>\n",
       "      <td>69.55</td>\n",
       "      <td>NaN</td>\n",
       "      <td>S</td>\n",
       "      <td>False</td>\n",
       "    </tr>\n",
       "    <tr>\n",
       "      <th>Sage, Miss. Constance Gladys</th>\n",
       "      <td>181</td>\n",
       "      <td>0</td>\n",
       "      <td>3</td>\n",
       "      <td>female</td>\n",
       "      <td>NaN</td>\n",
       "      <td>8</td>\n",
       "      <td>2</td>\n",
       "      <td>CA. 2343</td>\n",
       "      <td>69.55</td>\n",
       "      <td>NaN</td>\n",
       "      <td>S</td>\n",
       "      <td>False</td>\n",
       "    </tr>\n",
       "    <tr>\n",
       "      <th>Sage, Mr. Frederick</th>\n",
       "      <td>202</td>\n",
       "      <td>0</td>\n",
       "      <td>3</td>\n",
       "      <td>male</td>\n",
       "      <td>NaN</td>\n",
       "      <td>8</td>\n",
       "      <td>2</td>\n",
       "      <td>CA. 2343</td>\n",
       "      <td>69.55</td>\n",
       "      <td>NaN</td>\n",
       "      <td>S</td>\n",
       "      <td>False</td>\n",
       "    </tr>\n",
       "    <tr>\n",
       "      <th>Sage, Mr. George John Jr</th>\n",
       "      <td>325</td>\n",
       "      <td>0</td>\n",
       "      <td>3</td>\n",
       "      <td>male</td>\n",
       "      <td>NaN</td>\n",
       "      <td>8</td>\n",
       "      <td>2</td>\n",
       "      <td>CA. 2343</td>\n",
       "      <td>69.55</td>\n",
       "      <td>NaN</td>\n",
       "      <td>S</td>\n",
       "      <td>False</td>\n",
       "    </tr>\n",
       "    <tr>\n",
       "      <th>Sage, Miss. Stella Anna</th>\n",
       "      <td>793</td>\n",
       "      <td>0</td>\n",
       "      <td>3</td>\n",
       "      <td>female</td>\n",
       "      <td>NaN</td>\n",
       "      <td>8</td>\n",
       "      <td>2</td>\n",
       "      <td>CA. 2343</td>\n",
       "      <td>69.55</td>\n",
       "      <td>NaN</td>\n",
       "      <td>S</td>\n",
       "      <td>False</td>\n",
       "    </tr>\n",
       "    <tr>\n",
       "      <th>Sage, Mr. Douglas Bullen</th>\n",
       "      <td>847</td>\n",
       "      <td>0</td>\n",
       "      <td>3</td>\n",
       "      <td>male</td>\n",
       "      <td>NaN</td>\n",
       "      <td>8</td>\n",
       "      <td>2</td>\n",
       "      <td>CA. 2343</td>\n",
       "      <td>69.55</td>\n",
       "      <td>NaN</td>\n",
       "      <td>S</td>\n",
       "      <td>False</td>\n",
       "    </tr>\n",
       "    <tr>\n",
       "      <th>Sage, Miss. Dorothy Edith \"Dolly\"</th>\n",
       "      <td>864</td>\n",
       "      <td>0</td>\n",
       "      <td>3</td>\n",
       "      <td>female</td>\n",
       "      <td>NaN</td>\n",
       "      <td>8</td>\n",
       "      <td>2</td>\n",
       "      <td>CA. 2343</td>\n",
       "      <td>69.55</td>\n",
       "      <td>NaN</td>\n",
       "      <td>S</td>\n",
       "      <td>False</td>\n",
       "    </tr>\n",
       "  </tbody>\n",
       "</table>\n",
       "</div>"
      ],
      "text/plain": [
       "                                   PassengerId  Survived  Pclass     Sex  Age  \\\n",
       "Name                                                                            \n",
       "Sage, Master. Thomas Henry                 160         0       3    male  NaN   \n",
       "Sage, Miss. Constance Gladys               181         0       3  female  NaN   \n",
       "Sage, Mr. Frederick                        202         0       3    male  NaN   \n",
       "Sage, Mr. George John Jr                   325         0       3    male  NaN   \n",
       "Sage, Miss. Stella Anna                    793         0       3  female  NaN   \n",
       "Sage, Mr. Douglas Bullen                   847         0       3    male  NaN   \n",
       "Sage, Miss. Dorothy Edith \"Dolly\"          864         0       3  female  NaN   \n",
       "\n",
       "                                   SibSp  Parch    Ticket   Fare Cabin  \\\n",
       "Name                                                                     \n",
       "Sage, Master. Thomas Henry             8      2  CA. 2343  69.55   NaN   \n",
       "Sage, Miss. Constance Gladys           8      2  CA. 2343  69.55   NaN   \n",
       "Sage, Mr. Frederick                    8      2  CA. 2343  69.55   NaN   \n",
       "Sage, Mr. George John Jr               8      2  CA. 2343  69.55   NaN   \n",
       "Sage, Miss. Stella Anna                8      2  CA. 2343  69.55   NaN   \n",
       "Sage, Mr. Douglas Bullen               8      2  CA. 2343  69.55   NaN   \n",
       "Sage, Miss. Dorothy Edith \"Dolly\"      8      2  CA. 2343  69.55   NaN   \n",
       "\n",
       "                                  Embarked  Child  \n",
       "Name                                               \n",
       "Sage, Master. Thomas Henry               S  False  \n",
       "Sage, Miss. Constance Gladys             S  False  \n",
       "Sage, Mr. Frederick                      S  False  \n",
       "Sage, Mr. George John Jr                 S  False  \n",
       "Sage, Miss. Stella Anna                  S  False  \n",
       "Sage, Mr. Douglas Bullen                 S  False  \n",
       "Sage, Miss. Dorothy Edith \"Dolly\"        S  False  "
      ]
     },
     "execution_count": 64,
     "metadata": {},
     "output_type": "execute_result"
    }
   ],
   "source": [
    "largeFam = titanic[\"SibSp\"]==titanic[\"SibSp\"].max()\n",
    "largeFamNames = titanic[largeFam]\n",
    "largeFamNames"
   ]
  },
  {
   "cell_type": "code",
   "execution_count": 73,
   "metadata": {},
   "outputs": [
    {
     "data": {
      "text/html": [
       "<div>\n",
       "<style scoped>\n",
       "    .dataframe tbody tr th:only-of-type {\n",
       "        vertical-align: middle;\n",
       "    }\n",
       "\n",
       "    .dataframe tbody tr th {\n",
       "        vertical-align: top;\n",
       "    }\n",
       "\n",
       "    .dataframe thead th {\n",
       "        text-align: right;\n",
       "    }\n",
       "</style>\n",
       "<table border=\"1\" class=\"dataframe\">\n",
       "  <thead>\n",
       "    <tr style=\"text-align: right;\">\n",
       "      <th></th>\n",
       "      <th>PassengerId</th>\n",
       "      <th>Survived</th>\n",
       "      <th>Pclass</th>\n",
       "      <th>Sex</th>\n",
       "      <th>Age</th>\n",
       "      <th>SibSp</th>\n",
       "      <th>Parch</th>\n",
       "      <th>Ticket</th>\n",
       "      <th>Fare</th>\n",
       "      <th>Cabin</th>\n",
       "      <th>Embarked</th>\n",
       "      <th>Child</th>\n",
       "    </tr>\n",
       "    <tr>\n",
       "      <th>Name</th>\n",
       "      <th></th>\n",
       "      <th></th>\n",
       "      <th></th>\n",
       "      <th></th>\n",
       "      <th></th>\n",
       "      <th></th>\n",
       "      <th></th>\n",
       "      <th></th>\n",
       "      <th></th>\n",
       "      <th></th>\n",
       "      <th></th>\n",
       "      <th></th>\n",
       "    </tr>\n",
       "  </thead>\n",
       "  <tbody>\n",
       "    <tr>\n",
       "      <th>Sage, Master. Thomas Henry</th>\n",
       "      <td>160</td>\n",
       "      <td>0</td>\n",
       "      <td>3</td>\n",
       "      <td>male</td>\n",
       "      <td>NaN</td>\n",
       "      <td>8</td>\n",
       "      <td>2</td>\n",
       "      <td>CA. 2343</td>\n",
       "      <td>69.55</td>\n",
       "      <td>NaN</td>\n",
       "      <td>S</td>\n",
       "      <td>False</td>\n",
       "    </tr>\n",
       "    <tr>\n",
       "      <th>Sage, Miss. Constance Gladys</th>\n",
       "      <td>181</td>\n",
       "      <td>0</td>\n",
       "      <td>3</td>\n",
       "      <td>female</td>\n",
       "      <td>NaN</td>\n",
       "      <td>8</td>\n",
       "      <td>2</td>\n",
       "      <td>CA. 2343</td>\n",
       "      <td>69.55</td>\n",
       "      <td>NaN</td>\n",
       "      <td>S</td>\n",
       "      <td>False</td>\n",
       "    </tr>\n",
       "    <tr>\n",
       "      <th>Sage, Mr. Frederick</th>\n",
       "      <td>202</td>\n",
       "      <td>0</td>\n",
       "      <td>3</td>\n",
       "      <td>male</td>\n",
       "      <td>NaN</td>\n",
       "      <td>8</td>\n",
       "      <td>2</td>\n",
       "      <td>CA. 2343</td>\n",
       "      <td>69.55</td>\n",
       "      <td>NaN</td>\n",
       "      <td>S</td>\n",
       "      <td>False</td>\n",
       "    </tr>\n",
       "    <tr>\n",
       "      <th>Sage, Mr. George John Jr</th>\n",
       "      <td>325</td>\n",
       "      <td>0</td>\n",
       "      <td>3</td>\n",
       "      <td>male</td>\n",
       "      <td>NaN</td>\n",
       "      <td>8</td>\n",
       "      <td>2</td>\n",
       "      <td>CA. 2343</td>\n",
       "      <td>69.55</td>\n",
       "      <td>NaN</td>\n",
       "      <td>S</td>\n",
       "      <td>False</td>\n",
       "    </tr>\n",
       "    <tr>\n",
       "      <th>Sage, Miss. Stella Anna</th>\n",
       "      <td>793</td>\n",
       "      <td>0</td>\n",
       "      <td>3</td>\n",
       "      <td>female</td>\n",
       "      <td>NaN</td>\n",
       "      <td>8</td>\n",
       "      <td>2</td>\n",
       "      <td>CA. 2343</td>\n",
       "      <td>69.55</td>\n",
       "      <td>NaN</td>\n",
       "      <td>S</td>\n",
       "      <td>False</td>\n",
       "    </tr>\n",
       "    <tr>\n",
       "      <th>Sage, Mr. Douglas Bullen</th>\n",
       "      <td>847</td>\n",
       "      <td>0</td>\n",
       "      <td>3</td>\n",
       "      <td>male</td>\n",
       "      <td>NaN</td>\n",
       "      <td>8</td>\n",
       "      <td>2</td>\n",
       "      <td>CA. 2343</td>\n",
       "      <td>69.55</td>\n",
       "      <td>NaN</td>\n",
       "      <td>S</td>\n",
       "      <td>False</td>\n",
       "    </tr>\n",
       "    <tr>\n",
       "      <th>Sage, Miss. Dorothy Edith \"Dolly\"</th>\n",
       "      <td>864</td>\n",
       "      <td>0</td>\n",
       "      <td>3</td>\n",
       "      <td>female</td>\n",
       "      <td>NaN</td>\n",
       "      <td>8</td>\n",
       "      <td>2</td>\n",
       "      <td>CA. 2343</td>\n",
       "      <td>69.55</td>\n",
       "      <td>NaN</td>\n",
       "      <td>S</td>\n",
       "      <td>False</td>\n",
       "    </tr>\n",
       "  </tbody>\n",
       "</table>\n",
       "</div>"
      ],
      "text/plain": [
       "                                   PassengerId  Survived  Pclass     Sex  Age  \\\n",
       "Name                                                                            \n",
       "Sage, Master. Thomas Henry                 160         0       3    male  NaN   \n",
       "Sage, Miss. Constance Gladys               181         0       3  female  NaN   \n",
       "Sage, Mr. Frederick                        202         0       3    male  NaN   \n",
       "Sage, Mr. George John Jr                   325         0       3    male  NaN   \n",
       "Sage, Miss. Stella Anna                    793         0       3  female  NaN   \n",
       "Sage, Mr. Douglas Bullen                   847         0       3    male  NaN   \n",
       "Sage, Miss. Dorothy Edith \"Dolly\"          864         0       3  female  NaN   \n",
       "\n",
       "                                   SibSp  Parch    Ticket   Fare Cabin  \\\n",
       "Name                                                                     \n",
       "Sage, Master. Thomas Henry             8      2  CA. 2343  69.55   NaN   \n",
       "Sage, Miss. Constance Gladys           8      2  CA. 2343  69.55   NaN   \n",
       "Sage, Mr. Frederick                    8      2  CA. 2343  69.55   NaN   \n",
       "Sage, Mr. George John Jr               8      2  CA. 2343  69.55   NaN   \n",
       "Sage, Miss. Stella Anna                8      2  CA. 2343  69.55   NaN   \n",
       "Sage, Mr. Douglas Bullen               8      2  CA. 2343  69.55   NaN   \n",
       "Sage, Miss. Dorothy Edith \"Dolly\"      8      2  CA. 2343  69.55   NaN   \n",
       "\n",
       "                                  Embarked  Child  \n",
       "Name                                               \n",
       "Sage, Master. Thomas Henry               S  False  \n",
       "Sage, Miss. Constance Gladys             S  False  \n",
       "Sage, Mr. Frederick                      S  False  \n",
       "Sage, Mr. George John Jr                 S  False  \n",
       "Sage, Miss. Stella Anna                  S  False  \n",
       "Sage, Mr. Douglas Bullen                 S  False  \n",
       "Sage, Miss. Dorothy Edith \"Dolly\"        S  False  "
      ]
     },
     "execution_count": 73,
     "metadata": {},
     "output_type": "execute_result"
    }
   ],
   "source": [
    "largeFamNames = titanic[titanic[\"SibSp\"]==8]#[\"Name\"]\n",
    "largeFamNames"
   ]
  },
  {
   "cell_type": "code",
   "execution_count": null,
   "metadata": {},
   "outputs": [],
   "source": [
    "titanic.hist(column=\"Age\", by=\"Survived\", bins=25, figsize=(8,10), layout=(2,1), zorder=2, sharex=True, rwidth=0.9)"
   ]
  },
  {
   "cell_type": "code",
   "execution_count": 76,
   "metadata": {},
   "outputs": [
    {
     "data": {
      "text/plain": [
       "array([<AxesSubplot:title={'center':'Poor'}>,\n",
       "       <AxesSubplot:title={'center':'Rich'}>], dtype=object)"
      ]
     },
     "execution_count": 76,
     "metadata": {},
     "output_type": "execute_result"
    },
    {
     "data": {
      "image/png": "[encoded data removed]",
      "text/plain": [
       "<Figure size 432x288 with 2 Axes>"
      ]
     },
     "metadata": {
      "needs_background": "light"
     },
     "output_type": "display_data"
    }
   ],
   "source": [
    "titanic.hist(\"SibSp\", lambda x: \"Poor\" if titanic[\"Fare\"].loc[x] < titanic[\"Fare\"].mean() else \"Rich\", rwidth=0.9)"
   ]
  },
  {
   "cell_type": "markdown",
   "metadata": {},
   "source": [
    "## Data visualization with Matplotlib"
   ]
  },
  {
   "cell_type": "code",
   "execution_count": 80,
   "metadata": {},
   "outputs": [
    {
     "data": {
      "text/plain": [
       "Text(0.5, 1.0, 'some title')"
      ]
     },
     "execution_count": 80,
     "metadata": {},
     "output_type": "execute_result"
    },
    {
     "data": {
      "image/png": "[encoded data removed]",
      "text/plain": [
       "<Figure size 432x288 with 1 Axes>"
      ]
     },
     "metadata": {
      "needs_background": "light"
     },
     "output_type": "display_data"
    }
   ],
   "source": [
    "# this line tells Jupyter to display matplotlib figures in the notebook\n",
    "%matplotlib inline\n",
    "\n",
    "import matplotlib.pyplot as plt\n",
    "\n",
    "# this is dataset 1 from\n",
    "# https://en.wikipedia.org/wiki/Anscombe%27s_quartet\n",
    "data_x = [10.0, 8.0, 13.0, 9.0, 11.0, 14.0, 6.0, 4.0, 12.0, 7.0, 5.0]\n",
    "data_y = [8.04, 6.95, 7.58, 8.81, 8.33, 9.96, 7.24, 4.26, 10.84, 4.82, 5.68]\n",
    "\n",
    "fig, ax = plt.subplots()\n",
    "\n",
    "ax.scatter(x=data_x, y=data_y, c=\"#E69F00\")\n",
    "\n",
    "ax.set_xlabel(\"we should label the x axis\")\n",
    "ax.set_ylabel(\"we should label the y axis\")\n",
    "ax.set_title(\"some title\")\n",
    "\n",
    "# uncomment the next line if you would like to save the figure to disk\n",
    "# fig.savefig(\"my-first-plot.png\")"
   ]
  },
  {
   "cell_type": "code",
   "execution_count": 95,
   "metadata": {},
   "outputs": [
    {
     "data": {
      "text/plain": [
       "Text(0.5, 1.0, 'some title')"
      ]
     },
     "execution_count": 95,
     "metadata": {},
     "output_type": "execute_result"
    },
    {
     "data": {
      "image/png": "[encoded data removed]",
      "text/plain": [
       "<Figure size 432x288 with 1 Axes>"
      ]
     },
     "metadata": {
      "needs_background": "light"
     },
     "output_type": "display_data"
    }
   ],
   "source": [
    "data2_y = [9.14, 8.14, 8.74, 8.77, 9.26, 8.10, 6.13, 3.10, 9.13, 7.26, 4.74]\n",
    "\n",
    "fig, ax = plt.subplots()\n",
    "ax.scatter(x=data_x, y=data_y, c=\"#E69F00\", label=\"set 1\")\n",
    "ax.scatter(x=data_x, y=data2_y, c='#56B4E9', label=\"set 2\")\n",
    "data2_y_scaled = [y*2.0 for y in data2_y]\n",
    "ax.scatter(x=data_x, y=data2_y_scaled, c='#009E73', label='set 2 (scaled)')\n",
    "\n",
    "ax.legend()\n",
    "\n",
    "ax.set_xlabel(\"we should label the x axis\")\n",
    "ax.set_ylabel(\"we should label the y axis\")\n",
    "ax.set_title(\"some title\")"
   ]
  },
  {
   "cell_type": "markdown",
   "metadata": {},
   "source": [
    "## Exercises: Styling and customization"
   ]
  },
  {
   "cell_type": "markdown",
   "metadata": {},
   "source": [
    "#### Exercise 1"
   ]
  },
  {
   "cell_type": "code",
   "execution_count": 96,
   "metadata": {},
   "outputs": [
    {
     "data": {
      "text/html": [
       "<div>\n",
       "<style scoped>\n",
       "    .dataframe tbody tr th:only-of-type {\n",
       "        vertical-align: middle;\n",
       "    }\n",
       "\n",
       "    .dataframe tbody tr th {\n",
       "        vertical-align: top;\n",
       "    }\n",
       "\n",
       "    .dataframe thead th {\n",
       "        text-align: right;\n",
       "    }\n",
       "</style>\n",
       "<table border=\"1\" class=\"dataframe\">\n",
       "  <thead>\n",
       "    <tr style=\"text-align: right;\">\n",
       "      <th></th>\n",
       "      <th>country</th>\n",
       "      <th>continent</th>\n",
       "      <th>year</th>\n",
       "      <th>lifeExp</th>\n",
       "      <th>pop</th>\n",
       "      <th>gdpPercap</th>\n",
       "      <th>iso_alpha</th>\n",
       "      <th>iso_num</th>\n",
       "    </tr>\n",
       "  </thead>\n",
       "  <tbody>\n",
       "    <tr>\n",
       "      <th>11</th>\n",
       "      <td>Afghanistan</td>\n",
       "      <td>Asia</td>\n",
       "      <td>2007</td>\n",
       "      <td>43.828</td>\n",
       "      <td>31889923</td>\n",
       "      <td>974.580338</td>\n",
       "      <td>AFG</td>\n",
       "      <td>4</td>\n",
       "    </tr>\n",
       "    <tr>\n",
       "      <th>23</th>\n",
       "      <td>Albania</td>\n",
       "      <td>Europe</td>\n",
       "      <td>2007</td>\n",
       "      <td>76.423</td>\n",
       "      <td>3600523</td>\n",
       "      <td>5937.029526</td>\n",
       "      <td>ALB</td>\n",
       "      <td>8</td>\n",
       "    </tr>\n",
       "    <tr>\n",
       "      <th>35</th>\n",
       "      <td>Algeria</td>\n",
       "      <td>Africa</td>\n",
       "      <td>2007</td>\n",
       "      <td>72.301</td>\n",
       "      <td>33333216</td>\n",
       "      <td>6223.367465</td>\n",
       "      <td>DZA</td>\n",
       "      <td>12</td>\n",
       "    </tr>\n",
       "    <tr>\n",
       "      <th>47</th>\n",
       "      <td>Angola</td>\n",
       "      <td>Africa</td>\n",
       "      <td>2007</td>\n",
       "      <td>42.731</td>\n",
       "      <td>12420476</td>\n",
       "      <td>4797.231267</td>\n",
       "      <td>AGO</td>\n",
       "      <td>24</td>\n",
       "    </tr>\n",
       "    <tr>\n",
       "      <th>59</th>\n",
       "      <td>Argentina</td>\n",
       "      <td>Americas</td>\n",
       "      <td>2007</td>\n",
       "      <td>75.320</td>\n",
       "      <td>40301927</td>\n",
       "      <td>12779.379640</td>\n",
       "      <td>ARG</td>\n",
       "      <td>32</td>\n",
       "    </tr>\n",
       "    <tr>\n",
       "      <th>...</th>\n",
       "      <td>...</td>\n",
       "      <td>...</td>\n",
       "      <td>...</td>\n",
       "      <td>...</td>\n",
       "      <td>...</td>\n",
       "      <td>...</td>\n",
       "      <td>...</td>\n",
       "      <td>...</td>\n",
       "    </tr>\n",
       "    <tr>\n",
       "      <th>1655</th>\n",
       "      <td>Vietnam</td>\n",
       "      <td>Asia</td>\n",
       "      <td>2007</td>\n",
       "      <td>74.249</td>\n",
       "      <td>85262356</td>\n",
       "      <td>2441.576404</td>\n",
       "      <td>VNM</td>\n",
       "      <td>704</td>\n",
       "    </tr>\n",
       "    <tr>\n",
       "      <th>1667</th>\n",
       "      <td>West Bank and Gaza</td>\n",
       "      <td>Asia</td>\n",
       "      <td>2007</td>\n",
       "      <td>73.422</td>\n",
       "      <td>4018332</td>\n",
       "      <td>3025.349798</td>\n",
       "      <td>PSE</td>\n",
       "      <td>275</td>\n",
       "    </tr>\n",
       "    <tr>\n",
       "      <th>1679</th>\n",
       "      <td>Yemen, Rep.</td>\n",
       "      <td>Asia</td>\n",
       "      <td>2007</td>\n",
       "      <td>62.698</td>\n",
       "      <td>22211743</td>\n",
       "      <td>2280.769906</td>\n",
       "      <td>YEM</td>\n",
       "      <td>887</td>\n",
       "    </tr>\n",
       "    <tr>\n",
       "      <th>1691</th>\n",
       "      <td>Zambia</td>\n",
       "      <td>Africa</td>\n",
       "      <td>2007</td>\n",
       "      <td>42.384</td>\n",
       "      <td>11746035</td>\n",
       "      <td>1271.211593</td>\n",
       "      <td>ZMB</td>\n",
       "      <td>894</td>\n",
       "    </tr>\n",
       "    <tr>\n",
       "      <th>1703</th>\n",
       "      <td>Zimbabwe</td>\n",
       "      <td>Africa</td>\n",
       "      <td>2007</td>\n",
       "      <td>43.487</td>\n",
       "      <td>12311143</td>\n",
       "      <td>469.709298</td>\n",
       "      <td>ZWE</td>\n",
       "      <td>716</td>\n",
       "    </tr>\n",
       "  </tbody>\n",
       "</table>\n",
       "<p>142 rows × 8 columns</p>\n",
       "</div>"
      ],
      "text/plain": [
       "                 country continent  year  lifeExp       pop     gdpPercap  \\\n",
       "11           Afghanistan      Asia  2007   43.828  31889923    974.580338   \n",
       "23               Albania    Europe  2007   76.423   3600523   5937.029526   \n",
       "35               Algeria    Africa  2007   72.301  33333216   6223.367465   \n",
       "47                Angola    Africa  2007   42.731  12420476   4797.231267   \n",
       "59             Argentina  Americas  2007   75.320  40301927  12779.379640   \n",
       "...                  ...       ...   ...      ...       ...           ...   \n",
       "1655             Vietnam      Asia  2007   74.249  85262356   2441.576404   \n",
       "1667  West Bank and Gaza      Asia  2007   73.422   4018332   3025.349798   \n",
       "1679         Yemen, Rep.      Asia  2007   62.698  22211743   2280.769906   \n",
       "1691              Zambia    Africa  2007   42.384  11746035   1271.211593   \n",
       "1703            Zimbabwe    Africa  2007   43.487  12311143    469.709298   \n",
       "\n",
       "     iso_alpha  iso_num  \n",
       "11         AFG        4  \n",
       "23         ALB        8  \n",
       "35         DZA       12  \n",
       "47         AGO       24  \n",
       "59         ARG       32  \n",
       "...        ...      ...  \n",
       "1655       VNM      704  \n",
       "1667       PSE      275  \n",
       "1679       YEM      887  \n",
       "1691       ZMB      894  \n",
       "1703       ZWE      716  \n",
       "\n",
       "[142 rows x 8 columns]"
      ]
     },
     "execution_count": 96,
     "metadata": {},
     "output_type": "execute_result"
    }
   ],
   "source": [
    "url = \"https://raw.githubusercontent.com/plotly/datasets/master/gapminder_with_codes.csv\"\n",
    "data = pd.read_csv(url)\n",
    "\n",
    "data_2007 = data[data[\"year\"] == 2007]\n",
    "\n",
    "data_2007"
   ]
  },
  {
   "cell_type": "code",
   "execution_count": 101,
   "metadata": {},
   "outputs": [
    {
     "data": {
      "text/plain": [
       "Text(0, 0.5, 'Life expectancy (years)')"
      ]
     },
     "execution_count": 101,
     "metadata": {},
     "output_type": "execute_result"
    },
    {
     "data": {
      "image/png": "[encoded data removed]",
      "text/plain": [
       "<Figure size 432x288 with 1 Axes>"
      ]
     },
     "metadata": {
      "needs_background": "light"
     },
     "output_type": "display_data"
    }
   ],
   "source": [
    "# Plot on a linear scale:\n",
    "fig, ax = plt.subplots()\n",
    "\n",
    "ax.scatter(x=data_2007[\"gdpPercap\"], y=data_2007[\"lifeExp\"], alpha=0.5)\n",
    "\n",
    "ax.set_xlabel(\"GDP (USD) per capita\")\n",
    "ax.set_ylabel(\"Life expectancy (years)\")"
   ]
  },
  {
   "cell_type": "code",
   "execution_count": 102,
   "metadata": {},
   "outputs": [
    {
     "data": {
      "text/plain": [
       "Text(0, 0.5, 'Life expectancy (years)')"
      ]
     },
     "execution_count": 102,
     "metadata": {},
     "output_type": "execute_result"
    },
    {
     "data": {
      "image/png": "[encoded data removed]",
      "text/plain": [
       "<Figure size 432x288 with 1 Axes>"
      ]
     },
     "metadata": {
      "needs_background": "light"
     },
     "output_type": "display_data"
    }
   ],
   "source": [
    "# Plot on a log scale:\n",
    "fig, ax = plt.subplots()\n",
    "\n",
    "ax.scatter(x=data_2007[\"gdpPercap\"], y=data_2007[\"lifeExp\"], alpha=0.5)\n",
    "ax.set_xscale('log')\n",
    "\n",
    "ax.set_xlabel(\"GDP (USD) per capita\")\n",
    "ax.set_ylabel(\"Life expectancy (years)\")"
   ]
  },
  {
   "cell_type": "markdown",
   "metadata": {},
   "source": [
    "#### Exercise 2"
   ]
  },
  {
   "cell_type": "code",
   "execution_count": 122,
   "metadata": {},
   "outputs": [
    {
     "data": {
      "text/plain": [
       "Text(0, 0.5, 'Life expectancy (years)')"
      ]
     },
     "execution_count": 122,
     "metadata": {},
     "output_type": "execute_result"
    },
    {
     "data": {
      "image/png": "[encoded data removed]",
      "text/plain": [
       "<Figure size 432x288 with 1 Axes>"
      ]
     },
     "metadata": {
      "needs_background": "light"
     },
     "output_type": "display_data"
    }
   ],
   "source": [
    "# Adjust axis labels:\n",
    "fig, ax = plt.subplots()\n",
    "plt.rcParams['font.size'] = 16\n",
    "plt.tick_params(length=10, axis='both', which='major')\n",
    "plt.tick_params(length=5, axis='both', which='minor')\n",
    "\n",
    "ax.scatter(x=data_2007[\"gdpPercap\"], y=data_2007[\"lifeExp\"], alpha=0.5)\n",
    "ax.set_xscale('log')\n",
    "\n",
    "ax.set_xlabel(\"GDP (USD) per capita\")\n",
    "ax.set_ylabel(\"Life expectancy (years)\")\n",
    "\n",
    "\n",
    "# ax.text(fontsize=14)"
   ]
  },
  {
   "cell_type": "markdown",
   "metadata": {},
   "source": [
    "#### Exercise 3\n",
    "Example: Violingplot from Seaborn\n",
    "https://seaborn.pydata.org/examples/wide_form_violinplot.html"
   ]
  },
  {
   "cell_type": "code",
   "execution_count": 125,
   "metadata": {},
   "outputs": [
    {
     "name": "stdout",
     "output_type": "stream",
     "text": [
      "[[10.25146044  6.27005437  5.78778386  3.27832843  0.88147169  1.76439276\n",
      "   2.87844934  1.49695422]\n",
      " [ 8.59252953  4.00342116  3.26038963  3.15118015 -2.69725111  0.60361933\n",
      "  -2.22137264 -1.86174242]\n",
      " [ 8.91148203  5.90166378  5.33019963  5.15355493  1.69574111  3.77412959\n",
      "  -1.05994009  0.30581243]\n",
      " [11.80694036  6.72228869  3.01994006  1.22507744  1.03735879  1.4815929\n",
      "  -1.74878711 -0.81555886]\n",
      " [ 9.68154998  7.61595527  4.9362568   3.77927361  0.64515322  0.78197539\n",
      "   1.83840019  2.58965458]\n",
      " [ 7.48186894  9.56211165  7.1986894   4.631151    2.4817217   0.41335702\n",
      "   3.18649062  3.52330892]\n",
      " [13.60326974  9.16447163  5.22169938  0.65189093  1.94390217  2.35415252\n",
      "  -2.30627367  0.39303641]\n",
      " [10.85972739  7.92634955  2.13870262  1.74512305  1.07993994 -1.29840116\n",
      "   3.74918501 -1.38902917]\n",
      " [10.65793926  6.01711901  7.67388431  5.70925017  3.21951568 -3.36581711\n",
      "   0.3745072   0.97016467]\n",
      " [12.00792315  5.29845001  8.15096128  0.42766625  0.62975439  2.91130263\n",
      "   0.36855848  3.60757746]\n",
      " [10.37703839  5.26787592  3.75181155  0.88623596 -0.60254989  2.30202564\n",
      "   1.43278088  2.19190993]\n",
      " [ 8.49078842  9.912479    3.93216314  6.21734475  1.08723874 -0.42976393\n",
      "   0.77002     1.66569846]\n",
      " [10.32201915  5.36320645  1.82449913  0.26548776  2.95817614  3.02062872\n",
      "  -0.05813993 -2.54593742]\n",
      " [11.74608431  3.97347621  3.08080237  4.3105639  -2.54747191  1.81394185\n",
      "  -0.89283242 -0.17864831]\n",
      " [ 9.84859695  6.93849289  5.89528243  1.55178869  4.79477448  2.49339023\n",
      "   1.95791458  1.93252025]\n",
      " [11.57517644  8.22242146  4.65812578  0.21498049  1.68272024 -0.49782663\n",
      "  -2.57503428  0.11969787]\n",
      " [ 8.86290109  4.47465522  2.4209364   3.60536235  2.67015434  3.68611759\n",
      "   0.24261992  1.68647181]\n",
      " [12.80452965  8.83459537 -0.22366926  5.52589563  2.63205045  1.88874536\n",
      "   1.01290409  0.36830661]\n",
      " [10.63882844  5.81643748  0.70366796  2.85069874  0.34534674  3.20152948\n",
      "  -0.30708376 -0.230257  ]\n",
      " [ 8.30078809  5.51301916  4.48387243  0.09777783  2.55418067  0.82905815\n",
      "  -2.10099036 -5.19367344]\n",
      " [11.02610427  5.93909602  3.44692173  2.59621893  5.58576232  0.94160072\n",
      "   0.44368778 -3.37135345]\n",
      " [13.29467813  8.36924006  6.64080829  3.16387366  3.78612002  1.78309632\n",
      "   1.49682741 -0.70159363]\n",
      " [ 7.0522241   8.59197279  0.63701928  2.58865485  1.54376546 -1.04451763\n",
      "   1.49669553 -0.79786711]\n",
      " [ 9.12626335  7.57394756  3.55378048  5.84648814  2.65572059  0.09253668\n",
      "  -3.6180807  -3.0127141 ]\n",
      " [12.17366157  6.43305597  3.94068843  6.35503142 -0.61248805 -0.13011295\n",
      "  -0.6747261   0.77546685]\n",
      " [ 8.6729296   5.3074284   1.29663976  4.527227    3.56508915  0.08844916\n",
      "   0.59712915 -2.98249995]\n",
      " [ 9.05637369  9.290166    4.77840002  7.68925517  0.37842495  2.20177149\n",
      "  -0.1205624   0.73442799]\n",
      " [ 9.98557728  5.41186788  2.77170503  9.20060167  1.79812032 -2.99211873\n",
      "  -1.02675196  0.95887175]\n",
      " [ 8.99998313  9.2551565   6.5117351   2.76385092  1.00837855 -0.96839936\n",
      "  -1.12948383 -3.34349386]\n",
      " [12.40879258  9.71566567  1.99466242  0.70516224 -1.58421328 -0.88650581\n",
      "  -5.94222435 -2.68176562]\n",
      " [12.5938308   5.84291904  6.21610703  2.09059007  5.47414503  1.43963862\n",
      "  -0.49355533  4.70764034]\n",
      " [ 9.35105629  4.0918174   4.91075856  2.99085812  4.08545954 -0.8020652\n",
      "   1.87988312  1.30828923]\n",
      " [ 8.66462542  6.86075211  2.84543464  7.76014434  0.54453131  0.13505377\n",
      "  -1.86122679 -1.08945026]\n",
      " [ 9.98824795  8.06984237  3.28596526  2.69698028 -0.88016829 -0.6136018\n",
      "   5.78206437  1.68527867]\n",
      " [ 8.43715192  3.85946961  2.5557729   3.02514648  2.02226601 -0.44751855\n",
      "  -2.30269968  2.4475493 ]\n",
      " [10.9033709   5.78512806  4.06561614  2.00946728 -3.91928045  1.27252631\n",
      "  -1.87063956 -2.40257631]\n",
      " [ 8.71947519  7.99886753  2.16587694  0.19996528  3.23251459  2.54994046\n",
      "  -1.64741816  0.72758765]\n",
      " [ 9.41673514  7.13684845  1.985018    4.73431709  4.35932835  2.31534913\n",
      "   1.38712918 -7.94175802]\n",
      " [10.5212595   6.48337346  4.21284754  1.80737221  2.06354039  1.86543746\n",
      "  -0.25712707 -1.32385599]\n",
      " [12.45950762  4.32352988  6.56724895  3.42215312  0.34419915  0.46123886\n",
      "  -1.56953795  0.95292133]]\n"
     ]
    },
    {
     "data": {
      "text/plain": [
       "<AxesSubplot:>"
      ]
     },
     "execution_count": 125,
     "metadata": {},
     "output_type": "execute_result"
    },
    {
     "data": {
      "image/png": "[encoded data removed]",
      "text/plain": [
       "<Figure size 432x288 with 1 Axes>"
      ]
     },
     "metadata": {},
     "output_type": "display_data"
    }
   ],
   "source": [
    "import numpy as np\n",
    "import seaborn as sns\n",
    "\n",
    "sns.set_theme()\n",
    "\n",
    "# Create a random dataset across several variables\n",
    "rs = np.random.default_rng(0)\n",
    "n, p = 40, 8\n",
    "d = rs.normal(0, 2, (n, p))\n",
    "d += np.log(np.arange(1, p + 1)) * -5 + 10\n",
    "\n",
    "print(d)\n",
    "\n",
    "# Show each distribution with both violins and points\n",
    "sns.violinplot(data=d, palette=\"light:g\", inner=\"points\", orient=\"h\")"
   ]
  },
  {
   "cell_type": "code",
   "execution_count": 126,
   "metadata": {},
   "outputs": [
    {
     "data": {
      "text/plain": [
       "<AxesSubplot:>"
      ]
     },
     "execution_count": 126,
     "metadata": {},
     "output_type": "execute_result"
    },
    {
     "data": {
      "image/png": "[encoded data removed]",
      "text/plain": [
       "<Figure size 432x288 with 1 Axes>"
      ]
     },
     "metadata": {},
     "output_type": "display_data"
    }
   ],
   "source": [
    "# import numpy as np\n",
    "import seaborn as sns\n",
    "\n",
    "sns.set_theme()\n",
    "\n",
    "# # Create a random dataset across several variables\n",
    "# rs = np.random.default_rng(0)\n",
    "# n, p = 40, 8\n",
    "# d = rs.normal(0, 2, (n, p))\n",
    "# d += np.log(np.arange(1, p + 1)) * -5 + 10\n",
    "\n",
    "d = [[1.0, 2.0, 2.0, 3.0, 3.0, 3.0],\n",
    "     [1.0, 1.0, 1.0, 2.0, 2.0, 3.0]]\n",
    "\n",
    "# Show each distribution with both violins and points\n",
    "sns.violinplot(data=d, palette=\"light:g\", inner=\"points\", orient=\"h\")"
   ]
  },
  {
   "cell_type": "markdown",
   "metadata": {},
   "source": [
    "## Data formats"
   ]
  },
  {
   "cell_type": "code",
   "execution_count": 127,
   "metadata": {},
   "outputs": [
    {
     "name": "stdout",
     "output_type": "stream",
     "text": [
      "<class 'pandas.core.frame.DataFrame'>\n",
      "RangeIndex: 100000 entries, 0 to 99999\n",
      "Data columns (total 4 columns):\n",
      " #   Column     Non-Null Count   Dtype         \n",
      "---  ------     --------------   -----         \n",
      " 0   string     100000 non-null  object        \n",
      " 1   timestamp  100000 non-null  datetime64[ns]\n",
      " 2   integer    100000 non-null  int64         \n",
      " 3   float      100000 non-null  float64       \n",
      "dtypes: datetime64[ns](1), float64(1), int64(1), object(1)\n",
      "memory usage: 3.1+ MB\n"
     ]
    }
   ],
   "source": [
    "import pandas as pd\n",
    "import numpy as np\n",
    "\n",
    "n_rows = 100000\n",
    "\n",
    "dataset = pd.DataFrame(\n",
    "    data={\n",
    "        'string': np.random.choice(('apple', 'banana', 'carrot'), size=n_rows),\n",
    "        'timestamp': pd.date_range(\"20130101\", periods=n_rows, freq=\"s\"),\n",
    "        'integer': np.random.choice(range(0,10), size=n_rows),\n",
    "        'float': np.random.uniform(size=n_rows),\n",
    "    },\n",
    ")\n",
    "\n",
    "dataset.info()"
   ]
  },
  {
   "cell_type": "code",
   "execution_count": 128,
   "metadata": {},
   "outputs": [
    {
     "name": "stdout",
     "output_type": "stream",
     "text": [
      "class:  ndarray\n",
      "shape:  (1000, 1000)\n",
      "strides:  (8000, 8)\n",
      "itemsize:  8\n",
      "aligned:  True\n",
      "contiguous:  True\n",
      "fortran:  False\n",
      "data pointer: 0x7f7f6f233010\n",
      "byteorder:  little\n",
      "byteswap:  False\n",
      "type: float64\n"
     ]
    }
   ],
   "source": [
    "n = 1000\n",
    "\n",
    "data_array = np.random.uniform(size=(n,n))\n",
    "np.info(data_array)"
   ]
  },
  {
   "cell_type": "markdown",
   "metadata": {},
   "source": [
    "### Exercise 1"
   ]
  },
  {
   "cell_type": "code",
   "execution_count": 171,
   "metadata": {},
   "outputs": [
    {
     "name": "stdout",
     "output_type": "stream",
     "text": [
      "[158 617 154 769  68 250 452 751 314 861] [158 617 154 769  68 250 452 751 314 861]\n",
      "[ True  True  True  True  True  True  True  True  True  True]\n"
     ]
    }
   ],
   "source": [
    "import pickle\n",
    "# from datetime import datetime\n",
    "\n",
    "# np.random.seed(24)\n",
    "arb = np.random.randint(low=1, high=999, size=10)\n",
    "arb\n",
    "\n",
    "with open('pickledarb', 'wb') as file:\n",
    "    pickle.dump(arb, file)\n",
    "    \n",
    "with open('pickledarb', 'rb') as file:\n",
    "    pickled_arb = pickle.load(file)\n",
    "    \n",
    "print(arb, pickled_arb)\n",
    "print(arb==pickled_arb)"
   ]
  },
  {
   "cell_type": "markdown",
   "metadata": {},
   "source": [
    "### Storying tidy data"
   ]
  },
  {
   "cell_type": "markdown",
   "metadata": {},
   "source": [
    "#### CSV\n",
    "Storing data in CSVs can reduce data precision. Double-precision floating point numbers have ~16 decimal places of precision."
   ]
  },
  {
   "cell_type": "code",
   "execution_count": 172,
   "metadata": {},
   "outputs": [],
   "source": [
    "dataset.to_csv('dataset.csv', index=False)\n",
    "\n",
    "dataset_csv = pd.read_csv('dataset.csv')"
   ]
  },
  {
   "cell_type": "code",
   "execution_count": 173,
   "metadata": {},
   "outputs": [],
   "source": [
    "np.savetxt('data_array.csv', data_array)\n",
    "\n",
    "data_array_csv = np.loadtxt('data_array.csv')"
   ]
  },
  {
   "cell_type": "code",
   "execution_count": 174,
   "metadata": {},
   "outputs": [
    {
     "name": "stdout",
     "output_type": "stream",
     "text": [
      "4.376269049366499e-07\n"
     ]
    }
   ],
   "source": [
    "import numpy as np\n",
    "test_number = np.sqrt(2)\n",
    "# Write the number in a file\n",
    "test_file = open('sqrt2.csv', 'w')\n",
    "test_file.write('%f' % test_number)\n",
    "test_file.close()\n",
    "# Read the number from a file\n",
    "test_file = open('sqrt2.csv', 'r')\n",
    "test_number2 = np.float64(test_file.readline())\n",
    "test_file.close()\n",
    "# Calculate the distance between these numbers\n",
    "print(np.abs(test_number - test_number2))"
   ]
  },
  {
   "cell_type": "code",
   "execution_count": 175,
   "metadata": {},
   "outputs": [
    {
     "data": {
      "text/plain": [
       "True"
      ]
     },
     "execution_count": 175,
     "metadata": {},
     "output_type": "execute_result"
    }
   ],
   "source": [
    "dataset.compare(dataset_csv)\n",
    "\n",
    "np.all(data_array == data_array_csv)"
   ]
  },
  {
   "cell_type": "markdown",
   "metadata": {},
   "source": [
    "### Exercise 2"
   ]
  },
  {
   "cell_type": "code",
   "execution_count": 176,
   "metadata": {},
   "outputs": [],
   "source": [
    "import pandas as pd\n",
    "import numpy as np\n",
    "\n",
    "n_rows = 100000\n",
    "\n",
    "dataset = pd.DataFrame(\n",
    "    data={\n",
    "        'string': np.random.choice(('apple', 'banana', 'carrot'), size=n_rows),\n",
    "        'timestamp': pd.date_range(\"20130101\", periods=n_rows, freq=\"s\"),\n",
    "        'integer': np.random.choice(range(0,10), size=n_rows),\n",
    "        'float': np.random.uniform(size=n_rows),\n",
    "    },\n",
    ")"
   ]
  },
  {
   "cell_type": "code",
   "execution_count": 180,
   "metadata": {},
   "outputs": [],
   "source": [
    "dataset.to_csv('dataset.csv', index=\"False\")\n",
    "dataset_csv = pd.read_csv('dataset.csv')\n",
    "# dataset.compare(dataset_csv)"
   ]
  }
 ],
 "metadata": {
  "kernelspec": {
   "display_name": "Python 3",
   "language": "python",
   "name": "python3"
  },
  "language_info": {
   "codemirror_mode": {
    "name": "ipython",
    "version": 3
   },
   "file_extension": ".py",
   "mimetype": "text/x-python",
   "name": "python",
   "nbconvert_exporter": "python",
   "pygments_lexer": "ipython3",
   "version": "3.7.6"
  }
 },
 "nbformat": 4,
 "nbformat_minor": 4
}
