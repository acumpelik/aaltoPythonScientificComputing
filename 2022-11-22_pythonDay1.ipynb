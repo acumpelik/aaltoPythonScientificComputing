{
 "cells": [
  {
   "cell_type": "markdown",
   "metadata": {},
   "source": [
    "# Day 1\n",
    "[[course link](https://aaltoscicomp.github.io/python-for-scicomp/)]"
   ]
  },
  {
   "cell_type": "markdown",
   "metadata": {
    "jp-MarkdownHeadingCollapsed": true,
    "tags": []
   },
   "source": [
    "# **Jupyter**\n",
    "[[link](https://aaltoscicomp.github.io/python-for-scicomp/jupyter/)]"
   ]
  },
  {
   "cell_type": "markdown",
   "metadata": {},
   "source": [
    "Markdown is a lightweight way of giving *style* to `text` - you \n",
    "can check out [this reference](https://commonmark.org/help/)."
   ]
  },
  {
   "cell_type": "code",
   "execution_count": 13,
   "metadata": {},
   "outputs": [
    {
     "name": "stdout",
     "output_type": "stream",
     "text": [
      "0\n",
      "1\n",
      "2\n"
     ]
    }
   ],
   "source": [
    "for i in range(3):\n",
    "    print(i)"
   ]
  },
  {
   "cell_type": "code",
   "execution_count": 5,
   "metadata": {},
   "outputs": [
    {
     "name": "stdout",
     "output_type": "stream",
     "text": [
      "10\n"
     ]
    }
   ],
   "source": [
    "print(sum(range(5)))"
   ]
  },
  {
   "cell_type": "code",
   "execution_count": 6,
   "metadata": {},
   "outputs": [
    {
     "data": {
      "text/plain": [
       "45"
      ]
     },
     "execution_count": 6,
     "metadata": {},
     "output_type": "execute_result"
    }
   ],
   "source": [
    "sum(range(5))\n",
    "sum(range(10))"
   ]
  },
  {
   "cell_type": "markdown",
   "metadata": {},
   "source": [
    "Use **magics**, which are denoted by %, to type bash commands. <br>\n",
    "A % applies to the whole line, a %% applies to the whole cell (and goes at the beginning)."
   ]
  },
  {
   "cell_type": "code",
   "execution_count": 138,
   "metadata": {},
   "outputs": [
    {
     "data": {
      "text/plain": [
       "'/home/andrea/GitHub/aaltoPythonScientificComputing'"
      ]
     },
     "execution_count": 138,
     "metadata": {},
     "output_type": "execute_result"
    }
   ],
   "source": [
    "%pwd"
   ]
  },
  {
   "cell_type": "code",
   "execution_count": 139,
   "metadata": {},
   "outputs": [
    {
     "name": "stdout",
     "output_type": "stream",
     "text": [
      "1\n",
      "2\n",
      "3\n"
     ]
    }
   ],
   "source": [
    "%%bash\n",
    "for x in $(seq 3); do\n",
    "    echo $x\n",
    "done"
   ]
  },
  {
   "cell_type": "code",
   "execution_count": 140,
   "metadata": {},
   "outputs": [
    {
     "data": {
      "application/json": {
       "cell": {
        "!": "OSMagics",
        "HTML": "Other",
        "SVG": "Other",
        "bash": "Other",
        "capture": "ExecutionMagics",
        "debug": "ExecutionMagics",
        "file": "Other",
        "html": "DisplayMagics",
        "javascript": "DisplayMagics",
        "js": "DisplayMagics",
        "latex": "DisplayMagics",
        "markdown": "DisplayMagics",
        "perl": "Other",
        "prun": "ExecutionMagics",
        "pypy": "Other",
        "python": "Other",
        "python2": "Other",
        "python3": "Other",
        "ruby": "Other",
        "script": "ScriptMagics",
        "sh": "Other",
        "svg": "DisplayMagics",
        "sx": "OSMagics",
        "system": "OSMagics",
        "time": "ExecutionMagics",
        "timeit": "ExecutionMagics",
        "writefile": "OSMagics"
       },
       "line": {
        "alias": "OSMagics",
        "alias_magic": "BasicMagics",
        "autoawait": "AsyncMagics",
        "autocall": "AutoMagics",
        "automagic": "AutoMagics",
        "autosave": "KernelMagics",
        "bookmark": "OSMagics",
        "cat": "Other",
        "cd": "OSMagics",
        "clear": "KernelMagics",
        "colors": "BasicMagics",
        "conda": "PackagingMagics",
        "config": "ConfigMagics",
        "connect_info": "KernelMagics",
        "cp": "Other",
        "debug": "ExecutionMagics",
        "dhist": "OSMagics",
        "dirs": "OSMagics",
        "doctest_mode": "BasicMagics",
        "ed": "Other",
        "edit": "KernelMagics",
        "env": "OSMagics",
        "gui": "BasicMagics",
        "hist": "Other",
        "history": "HistoryMagics",
        "killbgscripts": "ScriptMagics",
        "ldir": "Other",
        "less": "KernelMagics",
        "lf": "Other",
        "lk": "Other",
        "ll": "Other",
        "load": "CodeMagics",
        "load_ext": "ExtensionMagics",
        "loadpy": "CodeMagics",
        "logoff": "LoggingMagics",
        "logon": "LoggingMagics",
        "logstart": "LoggingMagics",
        "logstate": "LoggingMagics",
        "logstop": "LoggingMagics",
        "ls": "Other",
        "lsmagic": "BasicMagics",
        "lx": "Other",
        "macro": "ExecutionMagics",
        "magic": "BasicMagics",
        "man": "KernelMagics",
        "matplotlib": "PylabMagics",
        "mkdir": "Other",
        "more": "KernelMagics",
        "mv": "Other",
        "notebook": "BasicMagics",
        "page": "BasicMagics",
        "pastebin": "CodeMagics",
        "pdb": "ExecutionMagics",
        "pdef": "NamespaceMagics",
        "pdoc": "NamespaceMagics",
        "pfile": "NamespaceMagics",
        "pinfo": "NamespaceMagics",
        "pinfo2": "NamespaceMagics",
        "pip": "PackagingMagics",
        "popd": "OSMagics",
        "pprint": "BasicMagics",
        "precision": "BasicMagics",
        "prun": "ExecutionMagics",
        "psearch": "NamespaceMagics",
        "psource": "NamespaceMagics",
        "pushd": "OSMagics",
        "pwd": "OSMagics",
        "pycat": "OSMagics",
        "pylab": "PylabMagics",
        "qtconsole": "KernelMagics",
        "quickref": "BasicMagics",
        "recall": "HistoryMagics",
        "rehashx": "OSMagics",
        "reload_ext": "ExtensionMagics",
        "rep": "Other",
        "rerun": "HistoryMagics",
        "reset": "NamespaceMagics",
        "reset_selective": "NamespaceMagics",
        "rm": "Other",
        "rmdir": "Other",
        "run": "ExecutionMagics",
        "save": "CodeMagics",
        "sc": "OSMagics",
        "set_env": "OSMagics",
        "store": "StoreMagics",
        "sx": "OSMagics",
        "system": "OSMagics",
        "tb": "ExecutionMagics",
        "time": "ExecutionMagics",
        "timeit": "ExecutionMagics",
        "unalias": "OSMagics",
        "unload_ext": "ExtensionMagics",
        "who": "NamespaceMagics",
        "who_ls": "NamespaceMagics",
        "whos": "NamespaceMagics",
        "xdel": "NamespaceMagics",
        "xmode": "BasicMagics"
       }
      },
      "text/plain": [
       "Available line magics:\n",
       "%alias  %alias_magic  %autoawait  %autocall  %automagic  %autosave  %bookmark  %cat  %cd  %clear  %colors  %conda  %config  %connect_info  %cp  %debug  %dhist  %dirs  %doctest_mode  %ed  %edit  %env  %gui  %hist  %history  %killbgscripts  %ldir  %less  %lf  %lk  %ll  %load  %load_ext  %loadpy  %logoff  %logon  %logstart  %logstate  %logstop  %ls  %lsmagic  %lx  %macro  %magic  %man  %matplotlib  %mkdir  %more  %mv  %notebook  %page  %pastebin  %pdb  %pdef  %pdoc  %pfile  %pinfo  %pinfo2  %pip  %popd  %pprint  %precision  %prun  %psearch  %psource  %pushd  %pwd  %pycat  %pylab  %qtconsole  %quickref  %recall  %rehashx  %reload_ext  %rep  %rerun  %reset  %reset_selective  %rm  %rmdir  %run  %save  %sc  %set_env  %store  %sx  %system  %tb  %time  %timeit  %unalias  %unload_ext  %who  %who_ls  %whos  %xdel  %xmode\n",
       "\n",
       "Available cell magics:\n",
       "%%!  %%HTML  %%SVG  %%bash  %%capture  %%debug  %%file  %%html  %%javascript  %%js  %%latex  %%markdown  %%perl  %%prun  %%pypy  %%python  %%python2  %%python3  %%ruby  %%script  %%sh  %%svg  %%sx  %%system  %%time  %%timeit  %%writefile\n",
       "\n",
       "Automagic is ON, % prefix IS NOT needed for line magics."
      ]
     },
     "execution_count": 140,
     "metadata": {},
     "output_type": "execute_result"
    }
   ],
   "source": [
    "%lsmagic"
   ]
  },
  {
   "cell_type": "markdown",
   "metadata": {},
   "source": [
    "### **Exercises 2**\n",
    "\n",
    "**Fibonacci sequence** <br>\n",
    "This function prints the n first sequences of the Fibonacci sequence."
   ]
  },
  {
   "cell_type": "code",
   "execution_count": 175,
   "metadata": {},
   "outputs": [
    {
     "data": {
      "text/plain": [
       "[0, 1, 1, 2, 3, 5, 8, 13, 21, 34]"
      ]
     },
     "execution_count": 175,
     "metadata": {},
     "output_type": "execute_result"
    }
   ],
   "source": [
    "def fibonacci(numelem):\n",
    "    fibonacci = list(range(numelem))\n",
    "    for elem in fibonacci:\n",
    "        if elem < 2:\n",
    "            fibonacci[elem]=elem\n",
    "        else:\n",
    "            fibonacci[elem] = fibonacci[elem-1] + fibonacci[elem-2]\n",
    "    return fibonacci\n",
    "\n",
    "fibonacci(10)"
   ]
  },
  {
   "cell_type": "markdown",
   "metadata": {},
   "source": [
    "Time the function using `%%timeit` (note that this will prevent the cell from returning an output):"
   ]
  },
  {
   "cell_type": "code",
   "execution_count": 174,
   "metadata": {},
   "outputs": [
    {
     "name": "stdout",
     "output_type": "stream",
     "text": [
      "1.1 µs ± 12.5 ns per loop (mean ± std. dev. of 7 runs, 1000000 loops each)\n"
     ]
    }
   ],
   "source": [
    "%%timeit\n",
    "fibonacci(10)"
   ]
  },
  {
   "cell_type": "markdown",
   "metadata": {},
   "source": [
    "#### Solution:\n",
    "#### Simple Fibonacci code\n",
    "* Start with two variables `a` and `b`\n",
    "* Repeat 10 times\n",
    "    * Print old `a`, then incrememnt both\n",
    "* Make use of the Python *tuple assignment*: `a, b = new_a, new_b`"
   ]
  },
  {
   "cell_type": "code",
   "execution_count": 1,
   "metadata": {},
   "outputs": [
    {
     "name": "stdout",
     "output_type": "stream",
     "text": [
      "0\n",
      "1\n",
      "1\n",
      "2\n",
      "3\n",
      "5\n",
      "8\n",
      "13\n",
      "21\n",
      "34\n"
     ]
    }
   ],
   "source": [
    "a, b = 0,1\n",
    "for i in range(10):\n",
    "    print(a)\n",
    "    a, b = b, a+b"
   ]
  },
  {
   "cell_type": "markdown",
   "metadata": {},
   "source": [
    "## **Summary**\n",
    "* Jupyter is great for visualizing both code and output (figures, descriptions) in one place.\n",
    "* It's downside is that it doesn't promote modularity, or splitting code into smaller \"modules\". This includes functions, classes, and packages, and makes complex code easier to work with and scale.\n",
    "    * Once your code starts getting more complex, you need to use it in more places, modularity allows you to do this without copying and pasting. You can still use Jupyter notebooks, but it's better to split your core code into modules and import them into your notebooks - so that modules are standard working code and notebooks are the exploratory/interactive layer.\n",
    "* Version control can also be an issue (nbdime is a tool that allows version control in Jupyter Notebooks).\n",
    "* See [here](https://scicomp.aalto.fi/scicomp/jupyter-pitfalls/) for more pitfalls of Jupyter."
   ]
  },
  {
   "cell_type": "markdown",
   "metadata": {
    "jp-MarkdownHeadingCollapsed": true,
    "tags": []
   },
   "source": [
    "# **NumPy**\n",
    "[[link](https://aaltoscicomp.github.io/python-for-scicomp/numpy/)]"
   ]
  },
  {
   "cell_type": "markdown",
   "metadata": {},
   "source": [
    "Python is slow, but NumPy is quite fast, as it's implemented in C or Fortran. List are slow and not very flexible; NumPy arrays are high-performance multidimensional objects. An array is a 'grid' of values with all the same data types. It is indexed by tuples of non-negative indices. <br>\n",
    "Properties of an array:\n",
    "* dtype: data type\n",
    "* shape: shape of the data; can be `3x2` or `3x2x500` (multidimensional), `500` (one-dimensional), or `[]` (zero-dimensional)\n",
    "* `ndarray.data`: raw data storage in memory. This can be passed to C or Fortran code for efficient calculations.\n",
    "\n",
    "Let's test the performance of Python vs. NumPy:"
   ]
  },
  {
   "cell_type": "code",
   "execution_count": 4,
   "metadata": {},
   "outputs": [],
   "source": [
    "import numpy as np"
   ]
  },
  {
   "cell_type": "code",
   "execution_count": 9,
   "metadata": {},
   "outputs": [],
   "source": [
    "a = list(range(10_000))\n",
    "b = [0] * 10_000"
   ]
  },
  {
   "cell_type": "code",
   "execution_count": 10,
   "metadata": {},
   "outputs": [
    {
     "name": "stdout",
     "output_type": "stream",
     "text": [
      "2.15 ms ± 5.04 µs per loop (mean ± std. dev. of 7 runs, 100 loops each)\n"
     ]
    }
   ],
   "source": [
    "%%timeit\n",
    "for i in range(len(a)):\n",
    "    b[i] = a[i]**2"
   ]
  },
  {
   "cell_type": "code",
   "execution_count": 11,
   "metadata": {},
   "outputs": [],
   "source": [
    "import numpy as np\n",
    "a = np.arange(10_000)\n",
    "b = np.zeros(10_000)"
   ]
  },
  {
   "cell_type": "code",
   "execution_count": 12,
   "metadata": {},
   "outputs": [
    {
     "name": "stdout",
     "output_type": "stream",
     "text": [
      "4.26 µs ± 49.3 ns per loop (mean ± std. dev. of 7 runs, 100000 loops each)\n"
     ]
    }
   ],
   "source": [
    "%%timeit\n",
    "b = a ** 2"
   ]
  },
  {
   "cell_type": "markdown",
   "metadata": {},
   "source": [
    "We can see that NumPy is orders of magnitude faster."
   ]
  },
  {
   "cell_type": "markdown",
   "metadata": {
    "tags": []
   },
   "source": [
    "## **Creating arrays:**"
   ]
  },
  {
   "cell_type": "code",
   "execution_count": 21,
   "metadata": {},
   "outputs": [
    {
     "data": {
      "text/plain": [
       "10000"
      ]
     },
     "execution_count": 21,
     "metadata": {},
     "output_type": "execute_result"
    }
   ],
   "source": [
    "a = np.array([1,2,3])\n",
    "a = np.array(([1,2,3],[4,5,6]))\n",
    "\n",
    "b.shape # dimensions = rows and columns\n",
    "b.size # number of elements"
   ]
  },
  {
   "cell_type": "code",
   "execution_count": 113,
   "metadata": {},
   "outputs": [],
   "source": [
    "np.zeros((2,3))\n",
    "np.ones((1,2))\n",
    "np.full((2,2),7) # 2x2 array with all elements 7\n",
    "np.eye(2)\n",
    "\n",
    "np.arange(10)\n",
    "np.linspace(0,9,10)\n",
    "\n",
    "c = np.ones((3,2))\n",
    "d = np.ones((3,2), 'bool') # all True\n",
    "e = np.zeros((3,2), 'bool') # all False"
   ]
  },
  {
   "cell_type": "code",
   "execution_count": 46,
   "metadata": {},
   "outputs": [],
   "source": [
    "np.save('x.npy', a) # save array a to an .npy file\n",
    "x = np.load('x.npy') # load the array and save as variable x"
   ]
  },
  {
   "cell_type": "code",
   "execution_count": 49,
   "metadata": {},
   "outputs": [
    {
     "data": {
      "text/plain": [
       "array([[1, 1],\n",
       "       [1, 1],\n",
       "       [1, 1]])"
      ]
     },
     "execution_count": 49,
     "metadata": {},
     "output_type": "execute_result"
    }
   ],
   "source": [
    "d.dtype\n",
    "d.astype('int') # convert d from Bools to ints"
   ]
  },
  {
   "cell_type": "markdown",
   "metadata": {},
   "source": [
    "### **Exercises 1**"
   ]
  },
  {
   "cell_type": "code",
   "execution_count": 50,
   "metadata": {},
   "outputs": [],
   "source": [
    "import numpy as np"
   ]
  },
  {
   "cell_type": "code",
   "execution_count": 120,
   "metadata": {},
   "outputs": [
    {
     "name": "stdout",
     "output_type": "stream",
     "text": [
      "[0 1 2 3 4 5 6 7 8 9] [0. 1. 2. 3. 4. 5. 6. 7. 8. 9.] [0. 1. 2. 3. 4. 5. 6. 7. 8. 9.] [0 1 2 3 4 5 6 7 8 9]\n"
     ]
    }
   ],
   "source": [
    "# Exercise 1\n",
    "a = np.arange(10)\n",
    "b = np.linspace(0,9,10)\n",
    "# a.dtype\n",
    "b.dtype\n",
    "\n",
    "b_int = b.astype(int)\n",
    "b_int.dtype\n",
    "\n",
    "a_flt = a.astype(float)\n",
    "a_flt.dtype\n",
    "\n",
    "print(a,b,a_flt,b_int)\n",
    "\n",
    "# Solution also:\n",
    "a = np.arange(10, dtype=float)\n",
    "b = np.linspace(0,9,10, dtype=int)"
   ]
  },
  {
   "cell_type": "code",
   "execution_count": 88,
   "metadata": {},
   "outputs": [
    {
     "name": "stdout",
     "output_type": "stream",
     "text": [
      "[[0.67142535 0.36082825]\n",
      " [0.87669786 0.74168023]\n",
      " [0.02841206 0.85700457]]\n",
      "[[0 0]\n",
      " [0 0]\n",
      " [0 0]]\n"
     ]
    }
   ],
   "source": [
    "# Exercise 2\n",
    "a = np.random.random((3,2))\n",
    "print(a)\n",
    "\n",
    "a_int = a.astype(int)\n",
    "print(a_int)"
   ]
  },
  {
   "cell_type": "code",
   "execution_count": 112,
   "metadata": {},
   "outputs": [],
   "source": [
    "# Exercise 3\n",
    "a = np.random.randint(0,11, size=(3,2))\n",
    "a.reshape((2,3))\n",
    "a_reshaped = a.reshape((6))\n",
    "reshaped = np.save('a_reshaped.npy', a_reshaped)\n",
    "new_a = np.load('a_reshaped.npy')"
   ]
  },
  {
   "cell_type": "markdown",
   "metadata": {},
   "source": [
    "## **Array math and vectorization**"
   ]
  },
  {
   "cell_type": "markdown",
   "metadata": {},
   "source": [
    "By default, basic arithmetic is performed in NumPy element by element. We say an operation is *vectorized* when looping over elements is carried out by NumPy internally, which uses specialized CPU instructions that greatly outperform a regular Python loop."
   ]
  },
  {
   "cell_type": "code",
   "execution_count": 133,
   "metadata": {},
   "outputs": [],
   "source": [
    "a = np.array([[1,2],[3,4]])\n",
    "b = np.array([[5,6],[7,8]])\n",
    "\n",
    "# Addition\n",
    "c = a + b\n",
    "d = np.add(a,b)\n",
    "\n",
    "# Matrix multiplication\n",
    "e = a @ b\n",
    "f = np.dot(a, b)"
   ]
  },
  {
   "cell_type": "markdown",
   "metadata": {},
   "source": [
    "### **Exercises 2**"
   ]
  },
  {
   "cell_type": "code",
   "execution_count": 147,
   "metadata": {},
   "outputs": [
    {
     "name": "stdout",
     "output_type": "stream",
     "text": [
      "[[ 5 12]\n",
      " [21 32]] [[19 22]\n",
      " [43 50]]\n"
     ]
    }
   ],
   "source": [
    "# Exercise 1\n",
    "# What is the difference between np.multiply and np.dot()?\n",
    "a = np.array([[1,2],[3,4]])\n",
    "b = np.array([[5,6],[7,8]])\n",
    "\n",
    "matrix_multiplication = np.multiply(a,b) # elementwise multiplication on two arrays\n",
    "dot_product = np.dot(a,b) # matrix multiplication\n",
    "\n",
    "print(matrix_multiplication, dot_product)"
   ]
  },
  {
   "cell_type": "code",
   "execution_count": 148,
   "metadata": {},
   "outputs": [
    {
     "name": "stdout",
     "output_type": "stream",
     "text": [
      "[[1 2]\n",
      " [3 4]] [3 7] [4 6] 10\n"
     ]
    }
   ],
   "source": [
    "# Exercise 2\n",
    "# What is the difference between np.sum(axis=1) vs np.sum(axis=0) on a two-dimensional array? What if you leave out the axis parameter?\n",
    "\n",
    "a = np.array([[1,2],[3,4]])\n",
    "\n",
    "sum_ax1 = np.sum(a, axis=1) # sums across rows\n",
    "sum_ax0 = np.sum(a, axis=0) # sums across columns\n",
    "sum_axunspecified = np.sum(a) # sums all elements\n",
    "\n",
    "print(a, sum_ax1, sum_ax0, sum_axunspecified)"
   ]
  },
  {
   "cell_type": "markdown",
   "metadata": {},
   "source": [
    "## **Indexing and slicing**"
   ]
  },
  {
   "cell_type": "markdown",
   "metadata": {},
   "source": [
    "Here as well it makes sense to use NumPy's indexing commands, because they are written in C or Fortran."
   ]
  },
  {
   "cell_type": "code",
   "execution_count": 166,
   "metadata": {},
   "outputs": [
    {
     "name": "stdout",
     "output_type": "stream",
     "text": [
      "[[ 0  1  2  3]\n",
      " [ 4  5  6  7]\n",
      " [ 8  9 10 11]\n",
      " [12 13 14 15]]\n"
     ]
    },
    {
     "data": {
      "text/plain": [
       "array([1, 5])"
      ]
     },
     "execution_count": 166,
     "metadata": {},
     "output_type": "execute_result"
    }
   ],
   "source": [
    "a = np.arange(16).reshape(4,4)\n",
    "print(a)\n",
    "a[0] # first row\n",
    "a[:,0] # first column\n",
    "a[1:3,1:3] # middle 2x2 array\n",
    "\n",
    "a[(0,1),(1,1)] # second element of the first row and second element of the second row as an array"
   ]
  },
  {
   "cell_type": "code",
   "execution_count": 174,
   "metadata": {},
   "outputs": [
    {
     "data": {
      "text/plain": [
       "array([ 1,  2,  3,  4,  5,  6,  7,  8,  9, 10, 11, 12, 13, 14, 15])"
      ]
     },
     "execution_count": 174,
     "metadata": {},
     "output_type": "execute_result"
    }
   ],
   "source": [
    "idx = (a > 0) # creates a Boolean matrix of the same size as matrix a\n",
    "a[idx] # array of only the elements that satisfy the criteria from idx\n",
    "\n",
    "a[a > 0] # same as above in one line"
   ]
  },
  {
   "cell_type": "markdown",
   "metadata": {},
   "source": [
    "### **Exercises 3**"
   ]
  },
  {
   "cell_type": "code",
   "execution_count": 279,
   "metadata": {},
   "outputs": [
    {
     "name": "stdout",
     "output_type": "stream",
     "text": [
      "[[1. 0. 0. 0.]\n",
      " [0. 1. 0. 0.]\n",
      " [0. 0. 1. 0.]\n",
      " [0. 0. 0. 1.]]\n",
      "[1. 0. 0. 0.]\n",
      "[[5. 0. 0. 0.]\n",
      " [0. 1. 0. 0.]\n",
      " [0. 0. 1. 0.]\n",
      " [0. 0. 0. 1.]]\n",
      "[5. 0. 0. 0.]\n"
     ]
    }
   ],
   "source": [
    "a = np.eye(4)\n",
    "b = a[:,0]\n",
    "print(a)\n",
    "print(b)\n",
    "\n",
    "b[0] = 5\n",
    "print(a)\n",
    "print(b)"
   ]
  },
  {
   "cell_type": "markdown",
   "metadata": {},
   "source": [
    "**Solution** <br>\n",
    "The change in `b` has also changed the original array `a`! This is because `b` is only a view of a part of array `a`. Both variables point to the same memory, so if one is changed, so is the other. If you need to keep the original array as it, use `np.copy(a)`."
   ]
  },
  {
   "cell_type": "markdown",
   "metadata": {},
   "source": [
    "## **Types of operations**"
   ]
  },
  {
   "cell_type": "markdown",
   "metadata": {},
   "source": [
    "**Ufuncs**, or universal functions, operate on ndarrays in an element-by-element fashion. A ufunc is a **vectorized** wrapper for a function that takes a fixed number of specific inputs and returns a fixed number of specific outputs. It also takes additional arguments, such as:\n",
    "* `where`: boolean array or condition defining where the operations should take place\n",
    "* `dtype`: defining the return type of elements\n",
    "* `out`: output array where the return value should be copied (saves you having to copy it yourself)\n",
    "<br>\n",
    "\n",
    "For example, `a + b` is similar to `np.add(a, b)`, but the ufunc gives you more control.\n",
    "<br>\n",
    "---\n",
    "**Broadcasting** refers to how NumPy treats arrays with different shapes during certain arithmetic operations. The smaller array is \"broadcast\" across the larger array so that they have compatible shapes (this doesn't work for every array of course). Broadcasting provides a means of vectorizing array operations, so that the looping occurs in C rather than Python. <br>\n",
    "In the simplest example, a 1x3 matrix `a` can be multiplied by scalar `b`. NumPy is smart enough to use the original scalar value without actually making copies to make the computation efficient.\n",
    "---\n",
    "**Array methods** do something to one array."
   ]
  },
  {
   "cell_type": "code",
   "execution_count": 190,
   "metadata": {},
   "outputs": [
    {
     "data": {
      "text/plain": [
       "array([ 8,  9, 10, 11])"
      ]
     },
     "execution_count": 190,
     "metadata": {},
     "output_type": "execute_result"
    }
   ],
   "source": [
    "# Array methods\n",
    "x = np.arange(12)\n",
    "x.shape = (3,4)\n",
    "x\n",
    "\n",
    "x.max()\n",
    "x.max(axis=0)"
   ]
  },
  {
   "cell_type": "markdown",
   "metadata": {},
   "source": [
    "### **Exercises 4**"
   ]
  },
  {
   "cell_type": "code",
   "execution_count": 287,
   "metadata": {},
   "outputs": [
    {
     "name": "stdout",
     "output_type": "stream",
     "text": [
      "139793351297424\n",
      "139793351297424\n"
     ]
    }
   ],
   "source": [
    "# In-place addition\n",
    "a = np.array(([3,4],[5,6]))\n",
    "print(id(a))\n",
    "np.add(a, a, a) # the third element is the output array\n",
    "\n",
    "print(id(a)) # same memory ID"
   ]
  },
  {
   "cell_type": "code",
   "execution_count": 290,
   "metadata": {},
   "outputs": [
    {
     "data": {
      "text/plain": [
       "array([[ 4.   ,  6.875,  9.75 ],\n",
       "       [12.625, 15.5  , 18.375],\n",
       "       [21.25 , 24.125, 27.   ]])"
      ]
     },
     "execution_count": 290,
     "metadata": {},
     "output_type": "execute_result"
    }
   ],
   "source": [
    "# In place addition: advanced\n",
    "a = np.linspace(1,0,9, dtype=float)\n",
    "b = np.arange(3,28,3, dtype=int)\n",
    "a = a.reshape(3,3)\n",
    "b = b.reshape(3,3)\n",
    "\n",
    "# np.add(a, b, out=b) # UFuncTypeError: Cannot cast ufunc 'add' output from dtype('float64') to dtype('int64') with casting rule 'same_kind'\n",
    "\n",
    "b = b.astype(float)\n",
    "np.add(a, b, out=b)"
   ]
  },
  {
   "cell_type": "code",
   "execution_count": 293,
   "metadata": {},
   "outputs": [],
   "source": [
    "# Output arguments and timing"
   ]
  },
  {
   "cell_type": "code",
   "execution_count": 291,
   "metadata": {
    "tags": []
   },
   "outputs": [
    {
     "name": "stdout",
     "output_type": "stream",
     "text": [
      "711 ns ± 4.22 ns per loop (mean ± std. dev. of 7 runs, 1000000 loops each)\n"
     ]
    }
   ],
   "source": [
    "%%timeit\n",
    "b = a ** 2"
   ]
  },
  {
   "cell_type": "code",
   "execution_count": 292,
   "metadata": {},
   "outputs": [
    {
     "name": "stdout",
     "output_type": "stream",
     "text": [
      "1.22 µs ± 17.2 ns per loop (mean ± std. dev. of 7 runs, 1000000 loops each)\n"
     ]
    }
   ],
   "source": [
    "%%timeit\n",
    "b = np.power(a, 2)"
   ]
  },
  {
   "cell_type": "code",
   "execution_count": 295,
   "metadata": {},
   "outputs": [
    {
     "name": "stdout",
     "output_type": "stream",
     "text": [
      "1.46 µs ± 13.4 ns per loop (mean ± std. dev. of 7 runs, 1000000 loops each)\n"
     ]
    }
   ],
   "source": [
    "%%timeit\n",
    "c = np.zeros((3,3))\n",
    "np.power(a, 2, out=c) # this is slower; this is due to the array being smaller. Sometimes the ufuncs don't make sense to use."
   ]
  },
  {
   "cell_type": "markdown",
   "metadata": {
    "tags": []
   },
   "source": [
    "## **Linear algebra and other advanced math**"
   ]
  },
  {
   "cell_type": "markdown",
   "metadata": {},
   "source": [
    "NumPy relies on software routines such as BLAS or LAPACK (written in C or Fortran) to provide efficient low level implementations of standard linear algebra algorithms, as listed under np.linalg. SciPy has many other functions. It is also possible to \"extend\" Python by writing modules in C or C++.\n",
    "* [Linear algebra in NumPy](https://numpy.org/doc/stable/reference/routines.linalg.html)\n",
    "* [Many other array functions](https://numpy.org/doc/stable/reference/routines.html)\n",
    "* [SciPy](https://docs.scipy.org/doc/scipy/reference/)"
   ]
  },
  {
   "cell_type": "markdown",
   "metadata": {},
   "source": [
    "### **Additional exercises**"
   ]
  },
  {
   "cell_type": "code",
   "execution_count": 73,
   "metadata": {},
   "outputs": [],
   "source": [
    "#1: Reverse a vector\n",
    "a = np.array(range(1,4))\n",
    "a = np.flip(a)\n",
    "# (Another) solution:\n",
    "a[::-1]\n",
    "\n",
    "#2: 2d array with zeros on the borders and 1 inside\n",
    "b = np.ones((5,7))\n",
    "b[0] = 0\n",
    "b[-1] = 0\n",
    "b[:,0] = 0\n",
    "b[:,-1] = 0\n",
    "# A combined solution:\n",
    "b[[0, -1], :]=0\n",
    "b[:,[0, -1]]=0\n",
    "\n",
    "#3: random array with elements [0, 1), then add 10 to all elements in the range [0.2, 0.7)\n",
    "#???\n",
    "c = np.random.random((4,6))\n",
    "idx = ((c >= 0.2) & (c < 0.7))\n",
    "d = c[idx] + 10\n",
    "# Solution:\n",
    "# random.rand is random.random where you can specify a given shape\n",
    "d = c + 10*(c>=0.2)*(c<0.7)\n",
    "\n",
    "#4: What is np.round(0.5)? What is np.round(1.5)? Why?\n",
    "np.round(0.5) #0.0\n",
    "np.round(1.5) #2.0\n",
    "# Documentation: For values exactly halfway between rounded decimal values, NumPy rounds to the nearest even value. Thus 1.5 and 2.5 round to 2.0, -0.5 and 0.5 round to 0.0, etc.\n",
    "\n",
    "#5: In addition to np.round, explore numpy.ceil, numpy.floor, numpy.trunc. In particular, take note of how they behave with negative numbers.\n",
    "np.ceil(2.1) #3.0\n",
    "np.ceil(-3.7) #-3.0\n",
    "np.floor(2.1) #2.0\n",
    "np.floor(-3.7) #-4.0\n",
    "np.trunc(2.1) #2.0\n",
    "np.trunc(-3.7) #-3.0\n",
    "\n",
    "#6: Recall the identity sin^2(x) + cos^2(x) = 1. Create a random 4x4 array with values in the range [0, 10). Now test the equality with numpy.equal. What result do you get with\n",
    "# numpy.allclose() instead of np.equal?\n",
    "np.random.seed(0)\n",
    "e = 10 * np.random.rand(4,4)\n",
    "e_sin2 = np.square(np.sin(e))\n",
    "e_cos2 = np.square(np.cos(e))\n",
    "e_res = np.ones((4,4))\n",
    "# print(np.equal(e_sin2+e_cos2, e_res))\n",
    "# print(np.allclose(e_sin2+e_cos2, e_res))\n",
    "# equal is a comparison of individual elements, allclose checks for a total match of all elements\n",
    "\n",
    "#7: Create a 1D array with 10 random elements. Sort it.\n",
    "f = np.random.rand(10)\n",
    "f_sorted = np.sort(f)\n",
    "\n",
    "#8: What’s the difference between np_array.sort() and np.sort(np_array)\n",
    "# f1 = f.sort() #acts on f directly\n",
    "f2 = np.sort(f) #returns a copy\n",
    "\n",
    "#9: For the random array in question 8, instead of sorting it, perform an indirect sort. That is, return the list of indices which would index the array in sorted order.\n",
    "f_idx = np.argsort(f)\n",
    "\n",
    "#10: Create a 4x4 array of zeros, and another 4x4 array of ones. Next combine them into a single 8x4 array with the content of the zeros array on top and the ones on the bottom.\n",
    "# Finally, do the same, but create a 4x8 array with the zeros on the left and the ones on the right.\n",
    "g = np.zeros((4,4))\n",
    "h = np.ones((4,4))\n",
    "gh1 = np.concatenate((g,h))\n",
    "gh2 = np.concatenate((g,h), axis=1)"
   ]
  },
  {
   "cell_type": "code",
   "execution_count": 74,
   "metadata": {},
   "outputs": [],
   "source": [
    "#11: NumPy functionality Create two 2D arrays and do matrix multiplication first manually (for loop), then using the np.dot function.\n",
    "# Use %%timeit to compare execution times. What is happening?\n",
    "np.random.seed(0)\n",
    "a = np.random.randint(20, size=(3,4))\n",
    "b = np.random.randint(20, size=(4,3))"
   ]
  },
  {
   "cell_type": "code",
   "execution_count": 75,
   "metadata": {},
   "outputs": [
    {
     "name": "stdout",
     "output_type": "stream",
     "text": [
      "16.4 µs ± 243 ns per loop (mean ± std. dev. of 7 runs, 100000 loops each)\n"
     ]
    }
   ],
   "source": [
    "%%timeit\n",
    "# For loop\n",
    "# 1: Initialize output matrix c, whose dimensions are the row of a and the columns of b\n",
    "c = np.zeros((a.shape[0], b.shape[1]))\n",
    "\n",
    "# 2: Iterate over each element of c. Each element is the sum of the product of the row of matrix a and the column of matrix b, so you're iterating over rows of a and columns of b\n",
    "for row in range(c.shape[0]):\n",
    "    for col in range(c.shape[0]):\n",
    "        res = sum(a[row] * b[:,col])\n",
    "        c[row][col] = res\n",
    "# print(c)"
   ]
  },
  {
   "cell_type": "code",
   "execution_count": 76,
   "metadata": {},
   "outputs": [
    {
     "name": "stdout",
     "output_type": "stream",
     "text": [
      "1.05 µs ± 90.9 ns per loop (mean ± std. dev. of 7 runs, 1000000 loops each)\n"
     ]
    }
   ],
   "source": [
    "%%timeit\n",
    "np.dot(a,b)"
   ]
  },
  {
   "cell_type": "markdown",
   "metadata": {
    "tags": []
   },
   "source": [
    "# **Advanced NumPy**\n",
    "[[link](https://aaltoscicomp.github.io/python-for-scicomp/numpy-advanced/)]"
   ]
  },
  {
   "cell_type": "markdown",
   "metadata": {},
   "source": [
    "## **NumPy can be really fast**\n",
    "Python, being an interpreted programming language, is quite slow. Using Python's built-in lists to manage large amounts of data would be impractically slow for serious data analysis. Yet, NumPy can be really fast, faster than commands written in C. Let's find out how fast NumPy can be by racing it against some code written in C."
   ]
  },
  {
   "cell_type": "markdown",
   "metadata": {},
   "source": [
    "### **Exercise 1**"
   ]
  },
  {
   "cell_type": "code",
   "execution_count": 80,
   "metadata": {
    "tags": []
   },
   "outputs": [
    {
     "data": {
      "text/plain": [
       "49995983.96380824"
      ]
     },
     "execution_count": 80,
     "metadata": {},
     "output_type": "execute_result"
    }
   ],
   "source": [
    "# %%timeit\n",
    "numsum = np.random.rand(1,100_000_000)\n",
    "np.sum(numsum)\n",
    "# numsum.data"
   ]
  },
  {
   "cell_type": "code",
   "execution_count": 83,
   "metadata": {},
   "outputs": [
    {
     "name": "stdout",
     "output_type": "stream",
     "text": [
      "49992791.92179311\n",
      "49999183.898756474\n",
      "49998857.83012497\n",
      "50001475.281656\n",
      "50000761.163382076\n",
      "49996390.4773628\n",
      "50001020.68622524\n",
      "50002381.46393703\n",
      "637 ms ± 5.85 ms per loop (mean ± std. dev. of 7 runs, 1 loop each)\n"
     ]
    }
   ],
   "source": [
    "%%timeit\n",
    "# Exercise 1 solution:\n",
    "print(np.random.rand(100_000_000).sum())"
   ]
  },
  {
   "cell_type": "markdown",
   "metadata": {},
   "source": [
    "Numpy is faster than the code the instructor wrote in C, because it's optimized. Dedicated functions are outsourced to dedicated libraries (e.g. Intel's Math Kernal Library (MLK), which is derived from a Fortran library called Basic Linear Algebra Subprograms (BLAS), so they're faster than when you write the code yourself. E.g., calculating the norm of a vector."
   ]
  },
  {
   "cell_type": "code",
   "execution_count": 84,
   "metadata": {},
   "outputs": [],
   "source": [
    "# Calculating the norm of a vector, basic NumPy commands vs. the specialized BLAS function:\n",
    "rng = np.random.default_rng(seed=0)\n",
    "a = np.random.rand(100_000_000)"
   ]
  },
  {
   "cell_type": "code",
   "execution_count": 88,
   "metadata": {},
   "outputs": [
    {
     "name": "stdout",
     "output_type": "stream",
     "text": [
      "170 ms ± 18.5 ms per loop (mean ± std. dev. of 7 runs, 1 loop each)\n"
     ]
    }
   ],
   "source": [
    "%%timeit\n",
    "l = np.sqrt(np.sum(a**2))"
   ]
  },
  {
   "cell_type": "code",
   "execution_count": 89,
   "metadata": {},
   "outputs": [
    {
     "name": "stdout",
     "output_type": "stream",
     "text": [
      "35.6 ms ± 124 µs per loop (mean ± std. dev. of 7 runs, 10 loops each)\n"
     ]
    }
   ],
   "source": [
    "%%timeit\n",
    "l = np.linalg.norm(a)"
   ]
  },
  {
   "cell_type": "markdown",
   "metadata": {},
   "source": [
    "## **Memory management: NumPy tries to avoid copying data**\n",
    "A big part of data processing speed is data management. Copying big arrays takes time, so NumPy tries to avoid copying whenever possible. It's not always trivial to know when NumPy will copy data or not, so it makes sense to develop and understanding of how the `numpy.ndarray` datastructure works behind the scenes."
   ]
  },
  {
   "cell_type": "markdown",
   "metadata": {},
   "source": [
    "### **An example: matrix transpose**"
   ]
  },
  {
   "cell_type": "code",
   "execution_count": 129,
   "metadata": {},
   "outputs": [
    {
     "name": "stdout",
     "output_type": "stream",
     "text": [
      "Matrix `a` takes up 1600.0 MB\n"
     ]
    }
   ],
   "source": [
    "a = np.random.rand(10_000, 20_000)\n",
    "print(f'Matrix `a` takes up {a.nbytes / 10**6} MB')"
   ]
  },
  {
   "cell_type": "code",
   "execution_count": 90,
   "metadata": {},
   "outputs": [
    {
     "name": "stdout",
     "output_type": "stream",
     "text": [
      "88.3 ns ± 1.38 ns per loop (mean ± std. dev. of 7 runs, 10000000 loops each)\n"
     ]
    }
   ],
   "source": [
    "%%timeit\n",
    "b = a.transpose()"
   ]
  },
  {
   "attachments": {
    "e5bd92c6-d57e-4521-ba91-9eacb1db2e13.png": {
     "image/png": "[encoded data removed]"
    }
   },
   "cell_type": "markdown",
   "metadata": {},
   "source": [
    "It takes mere nanoseconds to transpose 1600 MB of data! How? <br>\n",
    "The first thing you need to know about `numpy.ndarray` is that the memory underlying it is always a flat 1D array. <br><br>\n",
    "![image.png](attachment:e5bd92c6-d57e-4521-ba91-9eacb1db2e13.png)\n",
    "\n",
    "NumPy converts e.g. element `[2, 3]` to `11`. This is called **raveling**. Converting `[11]` to `[2, 3]` is called **unraveling**."
   ]
  },
  {
   "cell_type": "markdown",
   "metadata": {},
   "source": [
    "### **Exercise 2: writing our own ravel function**\n",
    "Write a function called `ravel()` that takes the row and column of an element in a 2D matrix and produces the appropriate index in an 1D array, where all the rows are concatenated. See the image above to remind yourself how each row of the 2D matrix ends up in the 1D array."
   ]
  },
  {
   "cell_type": "code",
   "execution_count": 171,
   "metadata": {},
   "outputs": [
    {
     "data": {
      "text/plain": [
       "8"
      ]
     },
     "execution_count": 171,
     "metadata": {},
     "output_type": "execute_result"
    }
   ],
   "source": [
    "def ravel(row, col, n_rows, n_cols): #remember that rows and cols start at 0\n",
    "    return row * n_cols + col\n",
    "    \n",
    "ravel(3,2,2,2)"
   ]
  },
  {
   "cell_type": "markdown",
   "metadata": {},
   "source": [
    "## **Strides**\n",
    "As seen in the previous exercise, to get to the next row, we have to skip over `n_cols` indices. To get to the next column, we just add 1. To generalize this for an arbitrary number of dimensions, NumPy has the concept of \"strides\". The `strides` attribute contains the number of *bytes* (not array indices) for each dimension that we have to skips over to get to the next element along that dimension."
   ]
  },
  {
   "cell_type": "code",
   "execution_count": 93,
   "metadata": {},
   "outputs": [
    {
     "data": {
      "text/plain": [
       "(13440, 2688, 448, 64, 8)"
      ]
     },
     "execution_count": 93,
     "metadata": {},
     "output_type": "execute_result"
    }
   ],
   "source": [
    "np.zeros((4,8)).strides # (64, 8)\n",
    "np.zeros((4,5,6,7,8)).strides # (13440, 2688, 448, 64, 8)"
   ]
  },
  {
   "cell_type": "markdown",
   "metadata": {},
   "source": [
    "In the above example, the `strides` attribute tells us that we have to skip over 64 bytes to get to the next row of a 4 x 8 matrix. This is because `np.zeros` generates floats, and each float is stored as 8 bytes. So to get to the next column, we skip ahead 8 bytes. Now we know why the `transpose()` function is so fast; NumPy avoids copying by just modifying the `strides` of the array."
   ]
  },
  {
   "cell_type": "code",
   "execution_count": 94,
   "metadata": {},
   "outputs": [
    {
     "name": "stdout",
     "output_type": "stream",
     "text": [
      "(160000, 8)\n",
      "(8, 160000)\n"
     ]
    }
   ],
   "source": [
    "import numpy as np\n",
    "\n",
    "a = np.random.rand(10_000, 20_000)\n",
    "b = a.transpose()\n",
    "\n",
    "print(a.strides)\n",
    "print(b.strides)"
   ]
  },
  {
   "cell_type": "markdown",
   "metadata": {},
   "source": [
    "### **Another example: reshaping**\n",
    "Reshaping an array is also accomplished by modifying the `strides`:"
   ]
  },
  {
   "cell_type": "code",
   "execution_count": 95,
   "metadata": {},
   "outputs": [
    {
     "name": "stdout",
     "output_type": "stream",
     "text": [
      "a.strides=(80000, 8)\n",
      "b.strides=(40000, 8)\n",
      "c.strides=(80000, 16, 8)\n"
     ]
    }
   ],
   "source": [
    "a = np.random.rand(20_000, 10_000)\n",
    "print(f'{a.strides=}')  # (80000, 8)\n",
    "b = a.reshape(40_000, 5_000)\n",
    "print(f'{b.strides=}')  # (40000, 8)\n",
    "c = a.reshape(20_000, 5_000, 2)\n",
    "print(f'{c.strides=}')  # (80000, 16, 8)"
   ]
  },
  {
   "cell_type": "markdown",
   "metadata": {},
   "source": [
    "### **Exercises 3**"
   ]
  },
  {
   "cell_type": "markdown",
   "metadata": {},
   "source": [
    "NumPy allows you to modify the `strides` attribute directly using `numpy.stride_tricks`. Playing around with it is very educational.\n",
    "1) Create your own `transpose` function that will transpose a 2D matrix by reversing its `shape` and `strides` attributes using `numpy.lib.stride_tricks.as_strided()`.\n",
    "2) Create a (5 x 100 000 000 000) array containing on the first row all 1's, the second row all 2's, and so on. Start with a 1D array `a = np.array([1., 2., 3., 4., 5.])` and modify its `shape` and `strides` attributes using `numpy.lib.stride_tricks.as_strided()` to obtain the desired 2D matrix:\n",
    "\n",
    "```\n",
    "array([[1., 1., 1., ..., 1., 1., 1.],\n",
    "       [2., 2., 2., ..., 2., 2., 2.],\n",
    "       [3., 3., 3., ..., 3., 3., 3.],\n",
    "       [4., 4., 4., ..., 4., 4., 4.],\n",
    "       [5., 5., 5., ..., 5., 5., 5.]])\n",
    "```"
   ]
  },
  {
   "cell_type": "code",
   "execution_count": 99,
   "metadata": {},
   "outputs": [],
   "source": [
    "# Exercises 3:"
   ]
  },
  {
   "cell_type": "markdown",
   "metadata": {},
   "source": [
    "### **A fast thing + a fast thing = a fast thing?**\n",
    "When we combine `np.transpose()` and `np.reshape()`, the result is actually slow, because here modifying the strides is simply not enough."
   ]
  },
  {
   "cell_type": "code",
   "execution_count": 100,
   "metadata": {},
   "outputs": [
    {
     "name": "stdout",
     "output_type": "stream",
     "text": [
      "Original array:\n",
      "[[1 2 3]\n",
      " [4 5 6]]\n",
      "\n",
      "Transposed:\n",
      "[[1 4]\n",
      " [2 5]\n",
      " [3 6]]\n",
      "\n",
      "Transposed and then reshaped:\n",
      "[[1 4 2]\n",
      " [5 3 6]]\n"
     ]
    }
   ],
   "source": [
    "a = np.array([[1, 2, 3], [4, 5, 6]])\n",
    "\n",
    "print('Original array:')\n",
    "print(a)\n",
    "\n",
    "print('\\nTransposed:')\n",
    "print(a.T)\n",
    "\n",
    "print('\\nTransposed and then reshaped:')\n",
    "print(a.T.reshape(2, 3))"
   ]
  },
  {
   "cell_type": "markdown",
   "metadata": {},
   "source": [
    "## **Copy versus view**"
   ]
  },
  {
   "cell_type": "markdown",
   "metadata": {},
   "source": [
    "Whenever NumPy constructs a new array by modifying the `strides` instead of copying data, we say it created a \"view\". This also happens when we select only a portion of an existing matrix. Whenever a view is created, the `numpy.ndarray` object will have a reference to the original array in its `base` attribute."
   ]
  },
  {
   "cell_type": "code",
   "execution_count": 112,
   "metadata": {},
   "outputs": [
    {
     "name": "stdout",
     "output_type": "stream",
     "text": [
      "None\n",
      "True\n",
      "(5, 5)\n"
     ]
    }
   ],
   "source": [
    "a = np.zeros((5,5))\n",
    "\n",
    "# The base of an array that owns its memory is None\n",
    "print(a.base) # None\n",
    "\n",
    "b = a[:2, :2]\n",
    "print(b.base is a) # True\n",
    "print(b.base.shape) # (5, 5)"
   ]
  },
  {
   "cell_type": "markdown",
   "metadata": {},
   "source": [
    "When you create a large array and select only a portion of it, the large array will stay in memory if a view was created! The new array `b` object has a pointer to the same memory buffer as the array it has been derived from:"
   ]
  },
  {
   "cell_type": "code",
   "execution_count": 114,
   "metadata": {},
   "outputs": [
    {
     "name": "stdout",
     "output_type": "stream",
     "text": [
      "(16162432, False)\n",
      "(16162432, False)\n"
     ]
    }
   ],
   "source": [
    "print(a.__array_interface__['data'])\n",
    "print(b.__array_interface__['data'])"
   ]
  },
  {
   "cell_type": "markdown",
   "metadata": {},
   "source": [
    "Views are created by virtue of modifying the value of the `shape` attribute and, if necessary, apply an offset to the pointer into the memory buffer so it no longer points to the start of the buffer, but somewhere in the middle:"
   ]
  },
  {
   "cell_type": "code",
   "execution_count": 115,
   "metadata": {},
   "outputs": [
    {
     "name": "stdout",
     "output_type": "stream",
     "text": [
      "Offset: 48 bytes\n"
     ]
    }
   ],
   "source": [
    "b = a[1:3, 1:3]   # This view does not start at the beginning\n",
    "offset = b.__array_interface__['data'][0] - a.__array_interface__['data'][0]\n",
    "print('Offset:', offset, 'bytes')  # Offset: 48 bytes"
   ]
  },
  {
   "attachments": {
    "8ed0dd5d-989d-4725-9d10-0b88e8ce24bd.png": {
     "image/png": "[encoded data removed]"
    }
   },
   "cell_type": "markdown",
   "metadata": {},
   "source": [
    "![image.png](attachment:8ed0dd5d-989d-4725-9d10-0b88e8ce24bd.png)"
   ]
  },
  {
   "cell_type": "markdown",
   "metadata": {},
   "source": [
    "Since the base array and its view share the same memory, any changes to the view will also affect the base array."
   ]
  },
  {
   "cell_type": "code",
   "execution_count": 116,
   "metadata": {},
   "outputs": [
    {
     "name": "stdout",
     "output_type": "stream",
     "text": [
      "[[0. 0. 0. 0. 0.]\n",
      " [0. 1. 0. 0. 0.]\n",
      " [0. 0. 0. 0. 0.]\n",
      " [0. 0. 0. 0. 0.]\n",
      " [0. 0. 0. 0. 0.]]\n"
     ]
    }
   ],
   "source": [
    "b[0, 0] = 1.\n",
    "print(a)  # Original matrix was modified"
   ]
  },
  {
   "cell_type": "markdown",
   "metadata": {},
   "source": [
    "Whenever you index an array, NumPy will attempt to create a view. Whether or not that succeeds depends on the memory layout of the array and what kind of indexing operation was done. If no view can be created, NumPy will create a new array and copy over the selected data:"
   ]
  },
  {
   "cell_type": "code",
   "execution_count": 117,
   "metadata": {},
   "outputs": [
    {
     "name": "stdout",
     "output_type": "stream",
     "text": [
      "None\n"
     ]
    }
   ],
   "source": [
    "c = a[[0, 2]]  # Select rows 0 and 2\n",
    "print(c.base)  # None. So not a view."
   ]
  },
  {
   "cell_type": "markdown",
   "metadata": {
    "tags": []
   },
   "source": [
    "# **Pandas**\n",
    "[[link](https://aaltoscicomp.github.io/python-for-scicomp/pandas/)]"
   ]
  },
  {
   "cell_type": "markdown",
   "metadata": {},
   "source": [
    "Pandas is a Python package that provides high-performance and easy to use data structures and data analysis tools."
   ]
  },
  {
   "cell_type": "code",
   "execution_count": 119,
   "metadata": {},
   "outputs": [],
   "source": [
    "import pandas as pd"
   ]
  },
  {
   "cell_type": "code",
   "execution_count": 120,
   "metadata": {},
   "outputs": [],
   "source": [
    "url = \"https://raw.githubusercontent.com/pandas-dev/pandas/master/doc/data/titanic.csv\"\n",
    "titanic = pd.read_csv(url, index_col='Name')"
   ]
  },
  {
   "cell_type": "code",
   "execution_count": 123,
   "metadata": {},
   "outputs": [
    {
     "data": {
      "text/html": [
       "<div>\n",
       "<style scoped>\n",
       "    .dataframe tbody tr th:only-of-type {\n",
       "        vertical-align: middle;\n",
       "    }\n",
       "\n",
       "    .dataframe tbody tr th {\n",
       "        vertical-align: top;\n",
       "    }\n",
       "\n",
       "    .dataframe thead th {\n",
       "        text-align: right;\n",
       "    }\n",
       "</style>\n",
       "<table border=\"1\" class=\"dataframe\">\n",
       "  <thead>\n",
       "    <tr style=\"text-align: right;\">\n",
       "      <th></th>\n",
       "      <th>PassengerId</th>\n",
       "      <th>Survived</th>\n",
       "      <th>Pclass</th>\n",
       "      <th>Sex</th>\n",
       "      <th>Age</th>\n",
       "      <th>SibSp</th>\n",
       "      <th>Parch</th>\n",
       "      <th>Ticket</th>\n",
       "      <th>Fare</th>\n",
       "      <th>Cabin</th>\n",
       "      <th>Embarked</th>\n",
       "    </tr>\n",
       "    <tr>\n",
       "      <th>Name</th>\n",
       "      <th></th>\n",
       "      <th></th>\n",
       "      <th></th>\n",
       "      <th></th>\n",
       "      <th></th>\n",
       "      <th></th>\n",
       "      <th></th>\n",
       "      <th></th>\n",
       "      <th></th>\n",
       "      <th></th>\n",
       "      <th></th>\n",
       "    </tr>\n",
       "  </thead>\n",
       "  <tbody>\n",
       "    <tr>\n",
       "      <th>Braund, Mr. Owen Harris</th>\n",
       "      <td>1</td>\n",
       "      <td>0</td>\n",
       "      <td>3</td>\n",
       "      <td>male</td>\n",
       "      <td>22.0</td>\n",
       "      <td>1</td>\n",
       "      <td>0</td>\n",
       "      <td>A/5 21171</td>\n",
       "      <td>7.2500</td>\n",
       "      <td>NaN</td>\n",
       "      <td>S</td>\n",
       "    </tr>\n",
       "    <tr>\n",
       "      <th>Cumings, Mrs. John Bradley (Florence Briggs Thayer)</th>\n",
       "      <td>2</td>\n",
       "      <td>1</td>\n",
       "      <td>1</td>\n",
       "      <td>female</td>\n",
       "      <td>38.0</td>\n",
       "      <td>1</td>\n",
       "      <td>0</td>\n",
       "      <td>PC 17599</td>\n",
       "      <td>71.2833</td>\n",
       "      <td>C85</td>\n",
       "      <td>C</td>\n",
       "    </tr>\n",
       "    <tr>\n",
       "      <th>Heikkinen, Miss. Laina</th>\n",
       "      <td>3</td>\n",
       "      <td>1</td>\n",
       "      <td>3</td>\n",
       "      <td>female</td>\n",
       "      <td>26.0</td>\n",
       "      <td>0</td>\n",
       "      <td>0</td>\n",
       "      <td>STON/O2. 3101282</td>\n",
       "      <td>7.9250</td>\n",
       "      <td>NaN</td>\n",
       "      <td>S</td>\n",
       "    </tr>\n",
       "    <tr>\n",
       "      <th>Futrelle, Mrs. Jacques Heath (Lily May Peel)</th>\n",
       "      <td>4</td>\n",
       "      <td>1</td>\n",
       "      <td>1</td>\n",
       "      <td>female</td>\n",
       "      <td>35.0</td>\n",
       "      <td>1</td>\n",
       "      <td>0</td>\n",
       "      <td>113803</td>\n",
       "      <td>53.1000</td>\n",
       "      <td>C123</td>\n",
       "      <td>S</td>\n",
       "    </tr>\n",
       "    <tr>\n",
       "      <th>Allen, Mr. William Henry</th>\n",
       "      <td>5</td>\n",
       "      <td>0</td>\n",
       "      <td>3</td>\n",
       "      <td>male</td>\n",
       "      <td>35.0</td>\n",
       "      <td>0</td>\n",
       "      <td>0</td>\n",
       "      <td>373450</td>\n",
       "      <td>8.0500</td>\n",
       "      <td>NaN</td>\n",
       "      <td>S</td>\n",
       "    </tr>\n",
       "  </tbody>\n",
       "</table>\n",
       "</div>"
      ],
      "text/plain": [
       "                                                    PassengerId  Survived  \\\n",
       "Name                                                                        \n",
       "Braund, Mr. Owen Harris                                       1         0   \n",
       "Cumings, Mrs. John Bradley (Florence Briggs Tha...            2         1   \n",
       "Heikkinen, Miss. Laina                                        3         1   \n",
       "Futrelle, Mrs. Jacques Heath (Lily May Peel)                  4         1   \n",
       "Allen, Mr. William Henry                                      5         0   \n",
       "\n",
       "                                                    Pclass     Sex   Age  \\\n",
       "Name                                                                       \n",
       "Braund, Mr. Owen Harris                                  3    male  22.0   \n",
       "Cumings, Mrs. John Bradley (Florence Briggs Tha...       1  female  38.0   \n",
       "Heikkinen, Miss. Laina                                   3  female  26.0   \n",
       "Futrelle, Mrs. Jacques Heath (Lily May Peel)             1  female  35.0   \n",
       "Allen, Mr. William Henry                                 3    male  35.0   \n",
       "\n",
       "                                                    SibSp  Parch  \\\n",
       "Name                                                               \n",
       "Braund, Mr. Owen Harris                                 1      0   \n",
       "Cumings, Mrs. John Bradley (Florence Briggs Tha...      1      0   \n",
       "Heikkinen, Miss. Laina                                  0      0   \n",
       "Futrelle, Mrs. Jacques Heath (Lily May Peel)            1      0   \n",
       "Allen, Mr. William Henry                                0      0   \n",
       "\n",
       "                                                              Ticket     Fare  \\\n",
       "Name                                                                            \n",
       "Braund, Mr. Owen Harris                                    A/5 21171   7.2500   \n",
       "Cumings, Mrs. John Bradley (Florence Briggs Tha...          PC 17599  71.2833   \n",
       "Heikkinen, Miss. Laina                              STON/O2. 3101282   7.9250   \n",
       "Futrelle, Mrs. Jacques Heath (Lily May Peel)                  113803  53.1000   \n",
       "Allen, Mr. William Henry                                      373450   8.0500   \n",
       "\n",
       "                                                   Cabin Embarked  \n",
       "Name                                                               \n",
       "Braund, Mr. Owen Harris                              NaN        S  \n",
       "Cumings, Mrs. John Bradley (Florence Briggs Tha...   C85        C  \n",
       "Heikkinen, Miss. Laina                               NaN        S  \n",
       "Futrelle, Mrs. Jacques Heath (Lily May Peel)        C123        S  \n",
       "Allen, Mr. William Henry                             NaN        S  "
      ]
     },
     "execution_count": 123,
     "metadata": {},
     "output_type": "execute_result"
    }
   ],
   "source": [
    "# print the first 5 lines of the dataframe\n",
    "titanic.head()"
   ]
  },
  {
   "cell_type": "code",
   "execution_count": 124,
   "metadata": {},
   "outputs": [
    {
     "data": {
      "text/html": [
       "<div>\n",
       "<style scoped>\n",
       "    .dataframe tbody tr th:only-of-type {\n",
       "        vertical-align: middle;\n",
       "    }\n",
       "\n",
       "    .dataframe tbody tr th {\n",
       "        vertical-align: top;\n",
       "    }\n",
       "\n",
       "    .dataframe thead th {\n",
       "        text-align: right;\n",
       "    }\n",
       "</style>\n",
       "<table border=\"1\" class=\"dataframe\">\n",
       "  <thead>\n",
       "    <tr style=\"text-align: right;\">\n",
       "      <th></th>\n",
       "      <th>PassengerId</th>\n",
       "      <th>Survived</th>\n",
       "      <th>Pclass</th>\n",
       "      <th>Age</th>\n",
       "      <th>SibSp</th>\n",
       "      <th>Parch</th>\n",
       "      <th>Fare</th>\n",
       "    </tr>\n",
       "  </thead>\n",
       "  <tbody>\n",
       "    <tr>\n",
       "      <th>count</th>\n",
       "      <td>891.000000</td>\n",
       "      <td>891.000000</td>\n",
       "      <td>891.000000</td>\n",
       "      <td>714.000000</td>\n",
       "      <td>891.000000</td>\n",
       "      <td>891.000000</td>\n",
       "      <td>891.000000</td>\n",
       "    </tr>\n",
       "    <tr>\n",
       "      <th>mean</th>\n",
       "      <td>446.000000</td>\n",
       "      <td>0.383838</td>\n",
       "      <td>2.308642</td>\n",
       "      <td>29.699118</td>\n",
       "      <td>0.523008</td>\n",
       "      <td>0.381594</td>\n",
       "      <td>32.204208</td>\n",
       "    </tr>\n",
       "    <tr>\n",
       "      <th>std</th>\n",
       "      <td>257.353842</td>\n",
       "      <td>0.486592</td>\n",
       "      <td>0.836071</td>\n",
       "      <td>14.526497</td>\n",
       "      <td>1.102743</td>\n",
       "      <td>0.806057</td>\n",
       "      <td>49.693429</td>\n",
       "    </tr>\n",
       "    <tr>\n",
       "      <th>min</th>\n",
       "      <td>1.000000</td>\n",
       "      <td>0.000000</td>\n",
       "      <td>1.000000</td>\n",
       "      <td>0.420000</td>\n",
       "      <td>0.000000</td>\n",
       "      <td>0.000000</td>\n",
       "      <td>0.000000</td>\n",
       "    </tr>\n",
       "    <tr>\n",
       "      <th>25%</th>\n",
       "      <td>223.500000</td>\n",
       "      <td>0.000000</td>\n",
       "      <td>2.000000</td>\n",
       "      <td>20.125000</td>\n",
       "      <td>0.000000</td>\n",
       "      <td>0.000000</td>\n",
       "      <td>7.910400</td>\n",
       "    </tr>\n",
       "    <tr>\n",
       "      <th>50%</th>\n",
       "      <td>446.000000</td>\n",
       "      <td>0.000000</td>\n",
       "      <td>3.000000</td>\n",
       "      <td>28.000000</td>\n",
       "      <td>0.000000</td>\n",
       "      <td>0.000000</td>\n",
       "      <td>14.454200</td>\n",
       "    </tr>\n",
       "    <tr>\n",
       "      <th>75%</th>\n",
       "      <td>668.500000</td>\n",
       "      <td>1.000000</td>\n",
       "      <td>3.000000</td>\n",
       "      <td>38.000000</td>\n",
       "      <td>1.000000</td>\n",
       "      <td>0.000000</td>\n",
       "      <td>31.000000</td>\n",
       "    </tr>\n",
       "    <tr>\n",
       "      <th>max</th>\n",
       "      <td>891.000000</td>\n",
       "      <td>1.000000</td>\n",
       "      <td>3.000000</td>\n",
       "      <td>80.000000</td>\n",
       "      <td>8.000000</td>\n",
       "      <td>6.000000</td>\n",
       "      <td>512.329200</td>\n",
       "    </tr>\n",
       "  </tbody>\n",
       "</table>\n",
       "</div>"
      ],
      "text/plain": [
       "       PassengerId    Survived      Pclass         Age       SibSp  \\\n",
       "count   891.000000  891.000000  891.000000  714.000000  891.000000   \n",
       "mean    446.000000    0.383838    2.308642   29.699118    0.523008   \n",
       "std     257.353842    0.486592    0.836071   14.526497    1.102743   \n",
       "min       1.000000    0.000000    1.000000    0.420000    0.000000   \n",
       "25%     223.500000    0.000000    2.000000   20.125000    0.000000   \n",
       "50%     446.000000    0.000000    3.000000   28.000000    0.000000   \n",
       "75%     668.500000    1.000000    3.000000   38.000000    1.000000   \n",
       "max     891.000000    1.000000    3.000000   80.000000    8.000000   \n",
       "\n",
       "            Parch        Fare  \n",
       "count  891.000000  891.000000  \n",
       "mean     0.381594   32.204208  \n",
       "std      0.806057   49.693429  \n",
       "min      0.000000    0.000000  \n",
       "25%      0.000000    7.910400  \n",
       "50%      0.000000   14.454200  \n",
       "75%      0.000000   31.000000  \n",
       "max      6.000000  512.329200  "
      ]
     },
     "execution_count": 124,
     "metadata": {},
     "output_type": "execute_result"
    }
   ],
   "source": [
    "# print summary statistics for each column\n",
    "titanic.describe()"
   ]
  },
  {
   "cell_type": "markdown",
   "metadata": {},
   "source": [
    "Now we have information on passenger names, survival (0 or 1), age, ticket fare, number of siblings/spouses, etc. With the summary statistics we see that the average age is 29.7 years, maximum ticket price is 512 USD, 38% of passengers survived, etc. <br> <br>\n",
    "Let’s say we’re interested in the survival probability of different age groups. With two one-liners, we can find the average age of those who survived or didn’t survive, and plot corresponding histograms of the age distribution (`pandas.DataFrame.groupby()`, `pandas.DataFrame.hist()`):"
   ]
  },
  {
   "cell_type": "code",
   "execution_count": 125,
   "metadata": {},
   "outputs": [
    {
     "data": {
      "text/plain": [
       "Survived\n",
       "0    30.626179\n",
       "1    28.343690\n",
       "Name: Age, dtype: float64"
      ]
     },
     "execution_count": 125,
     "metadata": {},
     "output_type": "execute_result"
    }
   ],
   "source": [
    "titanic.groupby(\"Survived\")[\"Age\"].mean()"
   ]
  },
  {
   "cell_type": "code",
   "execution_count": 126,
   "metadata": {},
   "outputs": [
    {
     "data": {
      "text/plain": [
       "array([<AxesSubplot:title={'center':'0'}>,\n",
       "       <AxesSubplot:title={'center':'1'}>], dtype=object)"
      ]
     },
     "execution_count": 126,
     "metadata": {},
     "output_type": "execute_result"
    },
    {
     "data": {
      "image/png": "[encoded data removed]",
      "text/plain": [
       "<Figure size 800x1000 with 2 Axes>"
      ]
     },
     "metadata": {},
     "output_type": "display_data"
    }
   ],
   "source": [
    "titanic.hist(column=\"Age\", by=\"Survived\", bins=25, figsize=(8,10), layout=(2,1), zorder=2, sharex=True, rwidth=0.9)"
   ]
  },
  {
   "cell_type": "markdown",
   "metadata": {},
   "source": [
    "### **How to get help**\n",
    "Series and DataFrames have a lot functionality, but how can we find out what methods are available and how they work? One way is to visit the API reference and reading through the list. Another way is to use the autocompletion feature in Jupyter and type e.g. `titanic[\"Age\"]`. in a notebook and then hit `TAB` twice - this should open up a list menu of available methods and attributes.\n",
    "\n",
    "Jupyter also offers quick access to help pages (docstrings) which can be more efficient than searching the internet. Two ways exist:\n",
    "\n",
    "* Write a function name followed by question mark and execute the cell, e.g. write `titanic.hist?` and hit `SHIFT + ENTER`.\n",
    "* Write the function name and hit `SHIFT + TAB`."
   ]
  },
  {
   "cell_type": "code",
   "execution_count": 129,
   "metadata": {
    "collapsed": true,
    "jupyter": {
     "outputs_hidden": true
    },
    "tags": []
   },
   "outputs": [
    {
     "data": {
      "text/plain": [
       "\u001b[0;31mSignature:\u001b[0m\n",
       "\u001b[0mtitanic\u001b[0m\u001b[0;34m.\u001b[0m\u001b[0mgroupby\u001b[0m\u001b[0;34m(\u001b[0m\u001b[0;34m\u001b[0m\n",
       "\u001b[0;34m\u001b[0m    \u001b[0mby\u001b[0m\u001b[0;34m=\u001b[0m\u001b[0;32mNone\u001b[0m\u001b[0;34m,\u001b[0m\u001b[0;34m\u001b[0m\n",
       "\u001b[0;34m\u001b[0m    \u001b[0maxis\u001b[0m\u001b[0;34m:\u001b[0m \u001b[0;34m'Axis'\u001b[0m \u001b[0;34m=\u001b[0m \u001b[0;36m0\u001b[0m\u001b[0;34m,\u001b[0m\u001b[0;34m\u001b[0m\n",
       "\u001b[0;34m\u001b[0m    \u001b[0mlevel\u001b[0m\u001b[0;34m:\u001b[0m \u001b[0;34m'Level | None'\u001b[0m \u001b[0;34m=\u001b[0m \u001b[0;32mNone\u001b[0m\u001b[0;34m,\u001b[0m\u001b[0;34m\u001b[0m\n",
       "\u001b[0;34m\u001b[0m    \u001b[0mas_index\u001b[0m\u001b[0;34m:\u001b[0m \u001b[0;34m'bool'\u001b[0m \u001b[0;34m=\u001b[0m \u001b[0;32mTrue\u001b[0m\u001b[0;34m,\u001b[0m\u001b[0;34m\u001b[0m\n",
       "\u001b[0;34m\u001b[0m    \u001b[0msort\u001b[0m\u001b[0;34m:\u001b[0m \u001b[0;34m'bool'\u001b[0m \u001b[0;34m=\u001b[0m \u001b[0;32mTrue\u001b[0m\u001b[0;34m,\u001b[0m\u001b[0;34m\u001b[0m\n",
       "\u001b[0;34m\u001b[0m    \u001b[0mgroup_keys\u001b[0m\u001b[0;34m:\u001b[0m \u001b[0;34m'bool'\u001b[0m \u001b[0;34m=\u001b[0m \u001b[0;32mTrue\u001b[0m\u001b[0;34m,\u001b[0m\u001b[0;34m\u001b[0m\n",
       "\u001b[0;34m\u001b[0m    \u001b[0msqueeze\u001b[0m\u001b[0;34m:\u001b[0m \u001b[0;34m'bool | lib.NoDefault'\u001b[0m \u001b[0;34m=\u001b[0m \u001b[0;34m<\u001b[0m\u001b[0mno_default\u001b[0m\u001b[0;34m>\u001b[0m\u001b[0;34m,\u001b[0m\u001b[0;34m\u001b[0m\n",
       "\u001b[0;34m\u001b[0m    \u001b[0mobserved\u001b[0m\u001b[0;34m:\u001b[0m \u001b[0;34m'bool'\u001b[0m \u001b[0;34m=\u001b[0m \u001b[0;32mFalse\u001b[0m\u001b[0;34m,\u001b[0m\u001b[0;34m\u001b[0m\n",
       "\u001b[0;34m\u001b[0m    \u001b[0mdropna\u001b[0m\u001b[0;34m:\u001b[0m \u001b[0;34m'bool'\u001b[0m \u001b[0;34m=\u001b[0m \u001b[0;32mTrue\u001b[0m\u001b[0;34m,\u001b[0m\u001b[0;34m\u001b[0m\n",
       "\u001b[0;34m\u001b[0m\u001b[0;34m)\u001b[0m \u001b[0;34m->\u001b[0m \u001b[0;34m'DataFrameGroupBy'\u001b[0m\u001b[0;34m\u001b[0m\u001b[0;34m\u001b[0m\u001b[0m\n",
       "\u001b[0;31mDocstring:\u001b[0m\n",
       "Group DataFrame using a mapper or by a Series of columns.\n",
       "\n",
       "A groupby operation involves some combination of splitting the\n",
       "object, applying a function, and combining the results. This can be\n",
       "used to group large amounts of data and compute operations on these\n",
       "groups.\n",
       "\n",
       "Parameters\n",
       "----------\n",
       "by : mapping, function, label, or list of labels\n",
       "    Used to determine the groups for the groupby.\n",
       "    If ``by`` is a function, it's called on each value of the object's\n",
       "    index. If a dict or Series is passed, the Series or dict VALUES\n",
       "    will be used to determine the groups (the Series' values are first\n",
       "    aligned; see ``.align()`` method). If a list or ndarray of length\n",
       "    equal to the selected axis is passed (see the `groupby user guide\n",
       "    <https://pandas.pydata.org/pandas-docs/stable/user_guide/groupby.html#splitting-an-object-into-groups>`_),\n",
       "    the values are used as-is to determine the groups. A label or list\n",
       "    of labels may be passed to group by the columns in ``self``.\n",
       "    Notice that a tuple is interpreted as a (single) key.\n",
       "axis : {0 or 'index', 1 or 'columns'}, default 0\n",
       "    Split along rows (0) or columns (1).\n",
       "level : int, level name, or sequence of such, default None\n",
       "    If the axis is a MultiIndex (hierarchical), group by a particular\n",
       "    level or levels.\n",
       "as_index : bool, default True\n",
       "    For aggregated output, return object with group labels as the\n",
       "    index. Only relevant for DataFrame input. as_index=False is\n",
       "    effectively \"SQL-style\" grouped output.\n",
       "sort : bool, default True\n",
       "    Sort group keys. Get better performance by turning this off.\n",
       "    Note this does not influence the order of observations within each\n",
       "    group. Groupby preserves the order of rows within each group.\n",
       "group_keys : bool, default True\n",
       "    When calling apply, add group keys to index to identify pieces.\n",
       "squeeze : bool, default False\n",
       "    Reduce the dimensionality of the return type if possible,\n",
       "    otherwise return a consistent type.\n",
       "\n",
       "    .. deprecated:: 1.1.0\n",
       "\n",
       "observed : bool, default False\n",
       "    This only applies if any of the groupers are Categoricals.\n",
       "    If True: only show observed values for categorical groupers.\n",
       "    If False: show all values for categorical groupers.\n",
       "dropna : bool, default True\n",
       "    If True, and if group keys contain NA values, NA values together\n",
       "    with row/column will be dropped.\n",
       "    If False, NA values will also be treated as the key in groups.\n",
       "\n",
       "    .. versionadded:: 1.1.0\n",
       "\n",
       "Returns\n",
       "-------\n",
       "DataFrameGroupBy\n",
       "    Returns a groupby object that contains information about the groups.\n",
       "\n",
       "See Also\n",
       "--------\n",
       "resample : Convenience method for frequency conversion and resampling\n",
       "    of time series.\n",
       "\n",
       "Notes\n",
       "-----\n",
       "See the `user guide\n",
       "<https://pandas.pydata.org/pandas-docs/stable/groupby.html>`__ for more\n",
       "detailed usage and examples, including splitting an object into groups,\n",
       "iterating through groups, selecting a group, aggregation, and more.\n",
       "\n",
       "Examples\n",
       "--------\n",
       ">>> df = pd.DataFrame({'Animal': ['Falcon', 'Falcon',\n",
       "...                               'Parrot', 'Parrot'],\n",
       "...                    'Max Speed': [380., 370., 24., 26.]})\n",
       ">>> df\n",
       "   Animal  Max Speed\n",
       "0  Falcon      380.0\n",
       "1  Falcon      370.0\n",
       "2  Parrot       24.0\n",
       "3  Parrot       26.0\n",
       ">>> df.groupby(['Animal']).mean()\n",
       "        Max Speed\n",
       "Animal\n",
       "Falcon      375.0\n",
       "Parrot       25.0\n",
       "\n",
       "**Hierarchical Indexes**\n",
       "\n",
       "We can groupby different levels of a hierarchical index\n",
       "using the `level` parameter:\n",
       "\n",
       ">>> arrays = [['Falcon', 'Falcon', 'Parrot', 'Parrot'],\n",
       "...           ['Captive', 'Wild', 'Captive', 'Wild']]\n",
       ">>> index = pd.MultiIndex.from_arrays(arrays, names=('Animal', 'Type'))\n",
       ">>> df = pd.DataFrame({'Max Speed': [390., 350., 30., 20.]},\n",
       "...                   index=index)\n",
       ">>> df\n",
       "                Max Speed\n",
       "Animal Type\n",
       "Falcon Captive      390.0\n",
       "       Wild         350.0\n",
       "Parrot Captive       30.0\n",
       "       Wild          20.0\n",
       ">>> df.groupby(level=0).mean()\n",
       "        Max Speed\n",
       "Animal\n",
       "Falcon      370.0\n",
       "Parrot       25.0\n",
       ">>> df.groupby(level=\"Type\").mean()\n",
       "         Max Speed\n",
       "Type\n",
       "Captive      210.0\n",
       "Wild         185.0\n",
       "\n",
       "We can also choose to include NA in group keys or not by setting\n",
       "`dropna` parameter, the default setting is `True`.\n",
       "\n",
       ">>> l = [[1, 2, 3], [1, None, 4], [2, 1, 3], [1, 2, 2]]\n",
       ">>> df = pd.DataFrame(l, columns=[\"a\", \"b\", \"c\"])\n",
       "\n",
       ">>> df.groupby(by=[\"b\"]).sum()\n",
       "    a   c\n",
       "b\n",
       "1.0 2   3\n",
       "2.0 2   5\n",
       "\n",
       ">>> df.groupby(by=[\"b\"], dropna=False).sum()\n",
       "    a   c\n",
       "b\n",
       "1.0 2   3\n",
       "2.0 2   5\n",
       "NaN 1   4\n",
       "\n",
       ">>> l = [[\"a\", 12, 12], [None, 12.3, 33.], [\"b\", 12.3, 123], [\"a\", 1, 1]]\n",
       ">>> df = pd.DataFrame(l, columns=[\"a\", \"b\", \"c\"])\n",
       "\n",
       ">>> df.groupby(by=\"a\").sum()\n",
       "    b     c\n",
       "a\n",
       "a   13.0   13.0\n",
       "b   12.3  123.0\n",
       "\n",
       ">>> df.groupby(by=\"a\", dropna=False).sum()\n",
       "    b     c\n",
       "a\n",
       "a   13.0   13.0\n",
       "b   12.3  123.0\n",
       "NaN 12.3   33.0\n",
       "\u001b[0;31mFile:\u001b[0m      ~/anaconda3/lib/python3.9/site-packages/pandas/core/frame.py\n",
       "\u001b[0;31mType:\u001b[0m      method\n"
      ]
     },
     "metadata": {},
     "output_type": "display_data"
    }
   ],
   "source": [
    "titanic.groupby?"
   ]
  },
  {
   "cell_type": "markdown",
   "metadata": {},
   "source": [
    "## **What's in a dataframe?**"
   ]
  },
  {
   "attachments": {
    "c326f369-0cf7-440b-a556-5ad5e6deb51a.png": {
     "image/png": "[encoded data removed]"
    }
   },
   "cell_type": "markdown",
   "metadata": {},
   "source": [
    "Unlike a NumPy array, a dataframe can combine multiple data types, such as numbers and text, but the data in each column is of the same type. Each column of a dataframe is a `pandas.Series` object. Series have to be in a uniform type. Therefore, we can also say that a dataframe is a collection of series. <br>\n",
    "![image.png](attachment:c326f369-0cf7-440b-a556-5ad5e6deb51a.png)"
   ]
  },
  {
   "cell_type": "code",
   "execution_count": 131,
   "metadata": {},
   "outputs": [
    {
     "name": "stdout",
     "output_type": "stream",
     "text": [
      "<class 'pandas.core.frame.DataFrame'>\n",
      "Index: 891 entries, Braund, Mr. Owen Harris to Dooley, Mr. Patrick\n",
      "Data columns (total 11 columns):\n",
      " #   Column       Non-Null Count  Dtype  \n",
      "---  ------       --------------  -----  \n",
      " 0   PassengerId  891 non-null    int64  \n",
      " 1   Survived     891 non-null    int64  \n",
      " 2   Pclass       891 non-null    int64  \n",
      " 3   Sex          891 non-null    object \n",
      " 4   Age          714 non-null    float64\n",
      " 5   SibSp        891 non-null    int64  \n",
      " 6   Parch        891 non-null    int64  \n",
      " 7   Ticket       891 non-null    object \n",
      " 8   Fare         891 non-null    float64\n",
      " 9   Cabin        204 non-null    object \n",
      " 10  Embarked     889 non-null    object \n",
      "dtypes: float64(2), int64(5), object(4)\n",
      "memory usage: 83.5+ KB\n"
     ]
    }
   ],
   "source": [
    "# Print some imformation about the columns\n",
    "titanic.info()"
   ]
  },
  {
   "cell_type": "markdown",
   "metadata": {},
   "source": [
    "As mentioned previously, a dataframe can contain multiple data types, but the data in each column has to be of the same type. So we say a column is of type `int64` or type `object`. <br>\n",
    "Let's inspect one column:"
   ]
  },
  {
   "cell_type": "code",
   "execution_count": 132,
   "metadata": {},
   "outputs": [
    {
     "data": {
      "text/plain": [
       "pandas.core.series.Series"
      ]
     },
     "execution_count": 132,
     "metadata": {},
     "output_type": "execute_result"
    }
   ],
   "source": [
    "titanic[\"Age\"]\n",
    "titanic.Age          # same as above\n",
    "type(titanic[\"Age\"])"
   ]
  },
  {
   "cell_type": "markdown",
   "metadata": {},
   "source": [
    "The columns have names. Here’s how to get them:"
   ]
  },
  {
   "cell_type": "code",
   "execution_count": 134,
   "metadata": {},
   "outputs": [
    {
     "data": {
      "text/plain": [
       "Index(['PassengerId', 'Survived', 'Pclass', 'Sex', 'Age', 'SibSp', 'Parch',\n",
       "       'Ticket', 'Fare', 'Cabin', 'Embarked'],\n",
       "      dtype='object')"
      ]
     },
     "execution_count": 134,
     "metadata": {},
     "output_type": "execute_result"
    }
   ],
   "source": [
    "titanic.columns"
   ]
  },
  {
   "cell_type": "markdown",
   "metadata": {},
   "source": [
    "However, the rows also have names! This is what Pandas calls the `index`:"
   ]
  },
  {
   "cell_type": "code",
   "execution_count": 185,
   "metadata": {},
   "outputs": [
    {
     "data": {
      "text/plain": [
       "Index(['Braund, Mr. Owen Harris',\n",
       "       'Cumings, Mrs. John Bradley (Florence Briggs Thayer)',\n",
       "       'Heikkinen, Miss. Laina',\n",
       "       'Futrelle, Mrs. Jacques Heath (Lily May Peel)',\n",
       "       'Allen, Mr. William Henry', 'Moran, Mr. James',\n",
       "       'McCarthy, Mr. Timothy J', 'Palsson, Master. Gosta Leonard',\n",
       "       'Johnson, Mrs. Oscar W (Elisabeth Vilhelmina Berg)',\n",
       "       'Nasser, Mrs. Nicholas (Adele Achem)',\n",
       "       ...\n",
       "       'Markun, Mr. Johann', 'Dahlberg, Miss. Gerda Ulrika',\n",
       "       'Banfield, Mr. Frederick James', 'Sutehall, Mr. Henry Jr',\n",
       "       'Rice, Mrs. William (Margaret Norton)', 'Montvila, Rev. Juozas',\n",
       "       'Graham, Miss. Margaret Edith',\n",
       "       'Johnston, Miss. Catherine Helen \"Carrie\"', 'Behr, Mr. Karl Howell',\n",
       "       'Dooley, Mr. Patrick'],\n",
       "      dtype='object', name='Name', length=891)"
      ]
     },
     "execution_count": 185,
     "metadata": {},
     "output_type": "execute_result"
    }
   ],
   "source": [
    "titanic.index"
   ]
  },
  {
   "cell_type": "markdown",
   "metadata": {},
   "source": [
    "If we didn't select Name as the index column, we would just see numbers here."
   ]
  },
  {
   "cell_type": "markdown",
   "metadata": {},
   "source": [
    "We can also select single or multiple rows, columns, and values:"
   ]
  },
  {
   "cell_type": "code",
   "execution_count": 135,
   "metadata": {},
   "outputs": [],
   "source": [
    "titanic.loc['Lam, Mr. Ali',\"Age\"]          # select single value by row and column\n",
    "titanic.loc[:'Lam, Mr. Ali',\"Survived\":\"Age\"]  # slice the dataframe by row and column *names*\n",
    "titanic.iloc[0:2,3:6]                      # same slice as above by row and column *numbers*\n",
    "\n",
    "titanic.at['Lam, Mr. Ali',\"Age\"] = 42      # set single value by row and column *name* (fast)\n",
    "titanic.at['Lam, Mr. Ali',\"Age\"]           # select single value by row and column *name* (fast)\n",
    "titanic.iat[0,5]                           # select same value by row and column *number* (fast)\n",
    "\n",
    "titanic[\"is_passenger\"] = True             # set a whole column"
   ]
  },
  {
   "cell_type": "markdown",
   "metadata": {},
   "source": [
    "As in NumPy arrays, we can also use boolean indexing:"
   ]
  },
  {
   "cell_type": "code",
   "execution_count": 136,
   "metadata": {},
   "outputs": [
    {
     "data": {
      "text/html": [
       "<div>\n",
       "<style scoped>\n",
       "    .dataframe tbody tr th:only-of-type {\n",
       "        vertical-align: middle;\n",
       "    }\n",
       "\n",
       "    .dataframe tbody tr th {\n",
       "        vertical-align: top;\n",
       "    }\n",
       "\n",
       "    .dataframe thead th {\n",
       "        text-align: right;\n",
       "    }\n",
       "</style>\n",
       "<table border=\"1\" class=\"dataframe\">\n",
       "  <thead>\n",
       "    <tr style=\"text-align: right;\">\n",
       "      <th></th>\n",
       "      <th>PassengerId</th>\n",
       "      <th>Survived</th>\n",
       "      <th>Pclass</th>\n",
       "      <th>Sex</th>\n",
       "      <th>Age</th>\n",
       "      <th>SibSp</th>\n",
       "      <th>Parch</th>\n",
       "      <th>Ticket</th>\n",
       "      <th>Fare</th>\n",
       "      <th>Cabin</th>\n",
       "      <th>Embarked</th>\n",
       "      <th>is_passenger</th>\n",
       "    </tr>\n",
       "    <tr>\n",
       "      <th>Name</th>\n",
       "      <th></th>\n",
       "      <th></th>\n",
       "      <th></th>\n",
       "      <th></th>\n",
       "      <th></th>\n",
       "      <th></th>\n",
       "      <th></th>\n",
       "      <th></th>\n",
       "      <th></th>\n",
       "      <th></th>\n",
       "      <th></th>\n",
       "      <th></th>\n",
       "    </tr>\n",
       "  </thead>\n",
       "  <tbody>\n",
       "    <tr>\n",
       "      <th>Devaney, Miss. Margaret Delia</th>\n",
       "      <td>45</td>\n",
       "      <td>1</td>\n",
       "      <td>3</td>\n",
       "      <td>female</td>\n",
       "      <td>19.0</td>\n",
       "      <td>0</td>\n",
       "      <td>0</td>\n",
       "      <td>330958</td>\n",
       "      <td>7.8792</td>\n",
       "      <td>NaN</td>\n",
       "      <td>Q</td>\n",
       "      <td>True</td>\n",
       "    </tr>\n",
       "    <tr>\n",
       "      <th>Brown, Mrs. James Joseph (Margaret Tobin)</th>\n",
       "      <td>195</td>\n",
       "      <td>1</td>\n",
       "      <td>1</td>\n",
       "      <td>female</td>\n",
       "      <td>44.0</td>\n",
       "      <td>0</td>\n",
       "      <td>0</td>\n",
       "      <td>PC 17610</td>\n",
       "      <td>27.7208</td>\n",
       "      <td>B4</td>\n",
       "      <td>C</td>\n",
       "      <td>True</td>\n",
       "    </tr>\n",
       "    <tr>\n",
       "      <th>Madigan, Miss. Margaret \"Maggie\"</th>\n",
       "      <td>199</td>\n",
       "      <td>1</td>\n",
       "      <td>3</td>\n",
       "      <td>female</td>\n",
       "      <td>NaN</td>\n",
       "      <td>0</td>\n",
       "      <td>0</td>\n",
       "      <td>370370</td>\n",
       "      <td>7.7500</td>\n",
       "      <td>NaN</td>\n",
       "      <td>Q</td>\n",
       "      <td>True</td>\n",
       "    </tr>\n",
       "    <tr>\n",
       "      <th>Fleming, Miss. Margaret</th>\n",
       "      <td>307</td>\n",
       "      <td>1</td>\n",
       "      <td>1</td>\n",
       "      <td>female</td>\n",
       "      <td>NaN</td>\n",
       "      <td>0</td>\n",
       "      <td>0</td>\n",
       "      <td>17421</td>\n",
       "      <td>110.8833</td>\n",
       "      <td>NaN</td>\n",
       "      <td>C</td>\n",
       "      <td>True</td>\n",
       "    </tr>\n",
       "    <tr>\n",
       "      <th>Hays, Miss. Margaret Bechstein</th>\n",
       "      <td>311</td>\n",
       "      <td>1</td>\n",
       "      <td>1</td>\n",
       "      <td>female</td>\n",
       "      <td>24.0</td>\n",
       "      <td>0</td>\n",
       "      <td>0</td>\n",
       "      <td>11767</td>\n",
       "      <td>83.1583</td>\n",
       "      <td>C54</td>\n",
       "      <td>C</td>\n",
       "      <td>True</td>\n",
       "    </tr>\n",
       "    <tr>\n",
       "      <th>Spedden, Mrs. Frederic Oakley (Margaretta Corning Stone)</th>\n",
       "      <td>320</td>\n",
       "      <td>1</td>\n",
       "      <td>1</td>\n",
       "      <td>female</td>\n",
       "      <td>40.0</td>\n",
       "      <td>1</td>\n",
       "      <td>1</td>\n",
       "      <td>16966</td>\n",
       "      <td>134.5000</td>\n",
       "      <td>E34</td>\n",
       "      <td>C</td>\n",
       "      <td>True</td>\n",
       "    </tr>\n",
       "    <tr>\n",
       "      <th>Burns, Miss. Elizabeth Margaret</th>\n",
       "      <td>338</td>\n",
       "      <td>1</td>\n",
       "      <td>1</td>\n",
       "      <td>female</td>\n",
       "      <td>41.0</td>\n",
       "      <td>0</td>\n",
       "      <td>0</td>\n",
       "      <td>16966</td>\n",
       "      <td>134.5000</td>\n",
       "      <td>E40</td>\n",
       "      <td>C</td>\n",
       "      <td>True</td>\n",
       "    </tr>\n",
       "    <tr>\n",
       "      <th>Ford, Miss. Doolina Margaret \"Daisy\"</th>\n",
       "      <td>437</td>\n",
       "      <td>0</td>\n",
       "      <td>3</td>\n",
       "      <td>female</td>\n",
       "      <td>21.0</td>\n",
       "      <td>2</td>\n",
       "      <td>2</td>\n",
       "      <td>W./C. 6608</td>\n",
       "      <td>34.3750</td>\n",
       "      <td>NaN</td>\n",
       "      <td>S</td>\n",
       "      <td>True</td>\n",
       "    </tr>\n",
       "    <tr>\n",
       "      <th>Murphy, Miss. Margaret Jane</th>\n",
       "      <td>613</td>\n",
       "      <td>1</td>\n",
       "      <td>3</td>\n",
       "      <td>female</td>\n",
       "      <td>NaN</td>\n",
       "      <td>1</td>\n",
       "      <td>0</td>\n",
       "      <td>367230</td>\n",
       "      <td>15.5000</td>\n",
       "      <td>NaN</td>\n",
       "      <td>Q</td>\n",
       "      <td>True</td>\n",
       "    </tr>\n",
       "    <tr>\n",
       "      <th>Mannion, Miss. Margareth</th>\n",
       "      <td>728</td>\n",
       "      <td>1</td>\n",
       "      <td>3</td>\n",
       "      <td>female</td>\n",
       "      <td>NaN</td>\n",
       "      <td>0</td>\n",
       "      <td>0</td>\n",
       "      <td>36866</td>\n",
       "      <td>7.7375</td>\n",
       "      <td>NaN</td>\n",
       "      <td>Q</td>\n",
       "      <td>True</td>\n",
       "    </tr>\n",
       "    <tr>\n",
       "      <th>Ford, Mrs. Edward (Margaret Ann Watson)</th>\n",
       "      <td>737</td>\n",
       "      <td>0</td>\n",
       "      <td>3</td>\n",
       "      <td>female</td>\n",
       "      <td>48.0</td>\n",
       "      <td>1</td>\n",
       "      <td>3</td>\n",
       "      <td>W./C. 6608</td>\n",
       "      <td>34.3750</td>\n",
       "      <td>NaN</td>\n",
       "      <td>S</td>\n",
       "      <td>True</td>\n",
       "    </tr>\n",
       "    <tr>\n",
       "      <th>Swift, Mrs. Frederick Joel (Margaret Welles Barron)</th>\n",
       "      <td>863</td>\n",
       "      <td>1</td>\n",
       "      <td>1</td>\n",
       "      <td>female</td>\n",
       "      <td>48.0</td>\n",
       "      <td>0</td>\n",
       "      <td>0</td>\n",
       "      <td>17466</td>\n",
       "      <td>25.9292</td>\n",
       "      <td>D17</td>\n",
       "      <td>S</td>\n",
       "      <td>True</td>\n",
       "    </tr>\n",
       "    <tr>\n",
       "      <th>Rice, Mrs. William (Margaret Norton)</th>\n",
       "      <td>886</td>\n",
       "      <td>0</td>\n",
       "      <td>3</td>\n",
       "      <td>female</td>\n",
       "      <td>39.0</td>\n",
       "      <td>0</td>\n",
       "      <td>5</td>\n",
       "      <td>382652</td>\n",
       "      <td>29.1250</td>\n",
       "      <td>NaN</td>\n",
       "      <td>Q</td>\n",
       "      <td>True</td>\n",
       "    </tr>\n",
       "    <tr>\n",
       "      <th>Graham, Miss. Margaret Edith</th>\n",
       "      <td>888</td>\n",
       "      <td>1</td>\n",
       "      <td>1</td>\n",
       "      <td>female</td>\n",
       "      <td>19.0</td>\n",
       "      <td>0</td>\n",
       "      <td>0</td>\n",
       "      <td>112053</td>\n",
       "      <td>30.0000</td>\n",
       "      <td>B42</td>\n",
       "      <td>S</td>\n",
       "      <td>True</td>\n",
       "    </tr>\n",
       "  </tbody>\n",
       "</table>\n",
       "</div>"
      ],
      "text/plain": [
       "                                                    PassengerId  Survived  \\\n",
       "Name                                                                        \n",
       "Devaney, Miss. Margaret Delia                                45         1   \n",
       "Brown, Mrs. James Joseph (Margaret Tobin)                   195         1   \n",
       "Madigan, Miss. Margaret \"Maggie\"                            199         1   \n",
       "Fleming, Miss. Margaret                                     307         1   \n",
       "Hays, Miss. Margaret Bechstein                              311         1   \n",
       "Spedden, Mrs. Frederic Oakley (Margaretta Corni...          320         1   \n",
       "Burns, Miss. Elizabeth Margaret                             338         1   \n",
       "Ford, Miss. Doolina Margaret \"Daisy\"                        437         0   \n",
       "Murphy, Miss. Margaret Jane                                 613         1   \n",
       "Mannion, Miss. Margareth                                    728         1   \n",
       "Ford, Mrs. Edward (Margaret Ann Watson)                     737         0   \n",
       "Swift, Mrs. Frederick Joel (Margaret Welles Bar...          863         1   \n",
       "Rice, Mrs. William (Margaret Norton)                        886         0   \n",
       "Graham, Miss. Margaret Edith                                888         1   \n",
       "\n",
       "                                                    Pclass     Sex   Age  \\\n",
       "Name                                                                       \n",
       "Devaney, Miss. Margaret Delia                            3  female  19.0   \n",
       "Brown, Mrs. James Joseph (Margaret Tobin)                1  female  44.0   \n",
       "Madigan, Miss. Margaret \"Maggie\"                         3  female   NaN   \n",
       "Fleming, Miss. Margaret                                  1  female   NaN   \n",
       "Hays, Miss. Margaret Bechstein                           1  female  24.0   \n",
       "Spedden, Mrs. Frederic Oakley (Margaretta Corni...       1  female  40.0   \n",
       "Burns, Miss. Elizabeth Margaret                          1  female  41.0   \n",
       "Ford, Miss. Doolina Margaret \"Daisy\"                     3  female  21.0   \n",
       "Murphy, Miss. Margaret Jane                              3  female   NaN   \n",
       "Mannion, Miss. Margareth                                 3  female   NaN   \n",
       "Ford, Mrs. Edward (Margaret Ann Watson)                  3  female  48.0   \n",
       "Swift, Mrs. Frederick Joel (Margaret Welles Bar...       1  female  48.0   \n",
       "Rice, Mrs. William (Margaret Norton)                     3  female  39.0   \n",
       "Graham, Miss. Margaret Edith                             1  female  19.0   \n",
       "\n",
       "                                                    SibSp  Parch      Ticket  \\\n",
       "Name                                                                           \n",
       "Devaney, Miss. Margaret Delia                           0      0      330958   \n",
       "Brown, Mrs. James Joseph (Margaret Tobin)               0      0    PC 17610   \n",
       "Madigan, Miss. Margaret \"Maggie\"                        0      0      370370   \n",
       "Fleming, Miss. Margaret                                 0      0       17421   \n",
       "Hays, Miss. Margaret Bechstein                          0      0       11767   \n",
       "Spedden, Mrs. Frederic Oakley (Margaretta Corni...      1      1       16966   \n",
       "Burns, Miss. Elizabeth Margaret                         0      0       16966   \n",
       "Ford, Miss. Doolina Margaret \"Daisy\"                    2      2  W./C. 6608   \n",
       "Murphy, Miss. Margaret Jane                             1      0      367230   \n",
       "Mannion, Miss. Margareth                                0      0       36866   \n",
       "Ford, Mrs. Edward (Margaret Ann Watson)                 1      3  W./C. 6608   \n",
       "Swift, Mrs. Frederick Joel (Margaret Welles Bar...      0      0       17466   \n",
       "Rice, Mrs. William (Margaret Norton)                    0      5      382652   \n",
       "Graham, Miss. Margaret Edith                            0      0      112053   \n",
       "\n",
       "                                                        Fare Cabin Embarked  \\\n",
       "Name                                                                          \n",
       "Devaney, Miss. Margaret Delia                         7.8792   NaN        Q   \n",
       "Brown, Mrs. James Joseph (Margaret Tobin)            27.7208    B4        C   \n",
       "Madigan, Miss. Margaret \"Maggie\"                      7.7500   NaN        Q   \n",
       "Fleming, Miss. Margaret                             110.8833   NaN        C   \n",
       "Hays, Miss. Margaret Bechstein                       83.1583   C54        C   \n",
       "Spedden, Mrs. Frederic Oakley (Margaretta Corni...  134.5000   E34        C   \n",
       "Burns, Miss. Elizabeth Margaret                     134.5000   E40        C   \n",
       "Ford, Miss. Doolina Margaret \"Daisy\"                 34.3750   NaN        S   \n",
       "Murphy, Miss. Margaret Jane                          15.5000   NaN        Q   \n",
       "Mannion, Miss. Margareth                              7.7375   NaN        Q   \n",
       "Ford, Mrs. Edward (Margaret Ann Watson)              34.3750   NaN        S   \n",
       "Swift, Mrs. Frederick Joel (Margaret Welles Bar...   25.9292   D17        S   \n",
       "Rice, Mrs. William (Margaret Norton)                 29.1250   NaN        Q   \n",
       "Graham, Miss. Margaret Edith                         30.0000   B42        S   \n",
       "\n",
       "                                                    is_passenger  \n",
       "Name                                                              \n",
       "Devaney, Miss. Margaret Delia                               True  \n",
       "Brown, Mrs. James Joseph (Margaret Tobin)                   True  \n",
       "Madigan, Miss. Margaret \"Maggie\"                            True  \n",
       "Fleming, Miss. Margaret                                     True  \n",
       "Hays, Miss. Margaret Bechstein                              True  \n",
       "Spedden, Mrs. Frederic Oakley (Margaretta Corni...          True  \n",
       "Burns, Miss. Elizabeth Margaret                             True  \n",
       "Ford, Miss. Doolina Margaret \"Daisy\"                        True  \n",
       "Murphy, Miss. Margaret Jane                                 True  \n",
       "Mannion, Miss. Margareth                                    True  \n",
       "Ford, Mrs. Edward (Margaret Ann Watson)                     True  \n",
       "Swift, Mrs. Frederick Joel (Margaret Welles Bar...          True  \n",
       "Rice, Mrs. William (Margaret Norton)                        True  \n",
       "Graham, Miss. Margaret Edith                                True  "
      ]
     },
     "execution_count": 136,
     "metadata": {},
     "output_type": "execute_result"
    }
   ],
   "source": [
    "titanic[titanic[\"Age\"] > 70]\n",
    "# \".str\" creates a string object from a column\n",
    "titanic[titanic.index.str.contains(\"Margaret\")]"
   ]
  },
  {
   "cell_type": "markdown",
   "metadata": {},
   "source": [
    "We can find missing values, drops them, or replace them:"
   ]
  },
  {
   "cell_type": "code",
   "execution_count": 137,
   "metadata": {},
   "outputs": [
    {
     "data": {
      "text/html": [
       "<div>\n",
       "<style scoped>\n",
       "    .dataframe tbody tr th:only-of-type {\n",
       "        vertical-align: middle;\n",
       "    }\n",
       "\n",
       "    .dataframe tbody tr th {\n",
       "        vertical-align: top;\n",
       "    }\n",
       "\n",
       "    .dataframe thead th {\n",
       "        text-align: right;\n",
       "    }\n",
       "</style>\n",
       "<table border=\"1\" class=\"dataframe\">\n",
       "  <thead>\n",
       "    <tr style=\"text-align: right;\">\n",
       "      <th></th>\n",
       "      <th>PassengerId</th>\n",
       "      <th>Survived</th>\n",
       "      <th>Pclass</th>\n",
       "      <th>Sex</th>\n",
       "      <th>Age</th>\n",
       "      <th>SibSp</th>\n",
       "      <th>Parch</th>\n",
       "      <th>Ticket</th>\n",
       "      <th>Fare</th>\n",
       "      <th>Cabin</th>\n",
       "      <th>Embarked</th>\n",
       "      <th>is_passenger</th>\n",
       "    </tr>\n",
       "    <tr>\n",
       "      <th>Name</th>\n",
       "      <th></th>\n",
       "      <th></th>\n",
       "      <th></th>\n",
       "      <th></th>\n",
       "      <th></th>\n",
       "      <th></th>\n",
       "      <th></th>\n",
       "      <th></th>\n",
       "      <th></th>\n",
       "      <th></th>\n",
       "      <th></th>\n",
       "      <th></th>\n",
       "    </tr>\n",
       "  </thead>\n",
       "  <tbody>\n",
       "    <tr>\n",
       "      <th>Braund, Mr. Owen Harris</th>\n",
       "      <td>1</td>\n",
       "      <td>0</td>\n",
       "      <td>3</td>\n",
       "      <td>male</td>\n",
       "      <td>22.0</td>\n",
       "      <td>1</td>\n",
       "      <td>0</td>\n",
       "      <td>A/5 21171</td>\n",
       "      <td>7.2500</td>\n",
       "      <td>NaN</td>\n",
       "      <td>S</td>\n",
       "      <td>True</td>\n",
       "    </tr>\n",
       "    <tr>\n",
       "      <th>Cumings, Mrs. John Bradley (Florence Briggs Thayer)</th>\n",
       "      <td>2</td>\n",
       "      <td>1</td>\n",
       "      <td>1</td>\n",
       "      <td>female</td>\n",
       "      <td>38.0</td>\n",
       "      <td>1</td>\n",
       "      <td>0</td>\n",
       "      <td>PC 17599</td>\n",
       "      <td>71.2833</td>\n",
       "      <td>C85</td>\n",
       "      <td>C</td>\n",
       "      <td>True</td>\n",
       "    </tr>\n",
       "    <tr>\n",
       "      <th>Heikkinen, Miss. Laina</th>\n",
       "      <td>3</td>\n",
       "      <td>1</td>\n",
       "      <td>3</td>\n",
       "      <td>female</td>\n",
       "      <td>26.0</td>\n",
       "      <td>0</td>\n",
       "      <td>0</td>\n",
       "      <td>STON/O2. 3101282</td>\n",
       "      <td>7.9250</td>\n",
       "      <td>C85</td>\n",
       "      <td>S</td>\n",
       "      <td>True</td>\n",
       "    </tr>\n",
       "    <tr>\n",
       "      <th>Futrelle, Mrs. Jacques Heath (Lily May Peel)</th>\n",
       "      <td>4</td>\n",
       "      <td>1</td>\n",
       "      <td>1</td>\n",
       "      <td>female</td>\n",
       "      <td>35.0</td>\n",
       "      <td>1</td>\n",
       "      <td>0</td>\n",
       "      <td>113803</td>\n",
       "      <td>53.1000</td>\n",
       "      <td>C123</td>\n",
       "      <td>S</td>\n",
       "      <td>True</td>\n",
       "    </tr>\n",
       "    <tr>\n",
       "      <th>Allen, Mr. William Henry</th>\n",
       "      <td>5</td>\n",
       "      <td>0</td>\n",
       "      <td>3</td>\n",
       "      <td>male</td>\n",
       "      <td>35.0</td>\n",
       "      <td>0</td>\n",
       "      <td>0</td>\n",
       "      <td>373450</td>\n",
       "      <td>8.0500</td>\n",
       "      <td>C123</td>\n",
       "      <td>S</td>\n",
       "      <td>True</td>\n",
       "    </tr>\n",
       "    <tr>\n",
       "      <th>...</th>\n",
       "      <td>...</td>\n",
       "      <td>...</td>\n",
       "      <td>...</td>\n",
       "      <td>...</td>\n",
       "      <td>...</td>\n",
       "      <td>...</td>\n",
       "      <td>...</td>\n",
       "      <td>...</td>\n",
       "      <td>...</td>\n",
       "      <td>...</td>\n",
       "      <td>...</td>\n",
       "      <td>...</td>\n",
       "    </tr>\n",
       "    <tr>\n",
       "      <th>Montvila, Rev. Juozas</th>\n",
       "      <td>887</td>\n",
       "      <td>0</td>\n",
       "      <td>2</td>\n",
       "      <td>male</td>\n",
       "      <td>27.0</td>\n",
       "      <td>0</td>\n",
       "      <td>0</td>\n",
       "      <td>211536</td>\n",
       "      <td>13.0000</td>\n",
       "      <td>C50</td>\n",
       "      <td>S</td>\n",
       "      <td>True</td>\n",
       "    </tr>\n",
       "    <tr>\n",
       "      <th>Graham, Miss. Margaret Edith</th>\n",
       "      <td>888</td>\n",
       "      <td>1</td>\n",
       "      <td>1</td>\n",
       "      <td>female</td>\n",
       "      <td>19.0</td>\n",
       "      <td>0</td>\n",
       "      <td>0</td>\n",
       "      <td>112053</td>\n",
       "      <td>30.0000</td>\n",
       "      <td>B42</td>\n",
       "      <td>S</td>\n",
       "      <td>True</td>\n",
       "    </tr>\n",
       "    <tr>\n",
       "      <th>Johnston, Miss. Catherine Helen \"Carrie\"</th>\n",
       "      <td>889</td>\n",
       "      <td>0</td>\n",
       "      <td>3</td>\n",
       "      <td>female</td>\n",
       "      <td>19.0</td>\n",
       "      <td>1</td>\n",
       "      <td>2</td>\n",
       "      <td>W./C. 6607</td>\n",
       "      <td>23.4500</td>\n",
       "      <td>B42</td>\n",
       "      <td>S</td>\n",
       "      <td>True</td>\n",
       "    </tr>\n",
       "    <tr>\n",
       "      <th>Behr, Mr. Karl Howell</th>\n",
       "      <td>890</td>\n",
       "      <td>1</td>\n",
       "      <td>1</td>\n",
       "      <td>male</td>\n",
       "      <td>26.0</td>\n",
       "      <td>0</td>\n",
       "      <td>0</td>\n",
       "      <td>111369</td>\n",
       "      <td>30.0000</td>\n",
       "      <td>C148</td>\n",
       "      <td>C</td>\n",
       "      <td>True</td>\n",
       "    </tr>\n",
       "    <tr>\n",
       "      <th>Dooley, Mr. Patrick</th>\n",
       "      <td>891</td>\n",
       "      <td>0</td>\n",
       "      <td>3</td>\n",
       "      <td>male</td>\n",
       "      <td>32.0</td>\n",
       "      <td>0</td>\n",
       "      <td>0</td>\n",
       "      <td>370376</td>\n",
       "      <td>7.7500</td>\n",
       "      <td>C148</td>\n",
       "      <td>Q</td>\n",
       "      <td>True</td>\n",
       "    </tr>\n",
       "  </tbody>\n",
       "</table>\n",
       "<p>891 rows × 12 columns</p>\n",
       "</div>"
      ],
      "text/plain": [
       "                                                    PassengerId  Survived  \\\n",
       "Name                                                                        \n",
       "Braund, Mr. Owen Harris                                       1         0   \n",
       "Cumings, Mrs. John Bradley (Florence Briggs Tha...            2         1   \n",
       "Heikkinen, Miss. Laina                                        3         1   \n",
       "Futrelle, Mrs. Jacques Heath (Lily May Peel)                  4         1   \n",
       "Allen, Mr. William Henry                                      5         0   \n",
       "...                                                         ...       ...   \n",
       "Montvila, Rev. Juozas                                       887         0   \n",
       "Graham, Miss. Margaret Edith                                888         1   \n",
       "Johnston, Miss. Catherine Helen \"Carrie\"                    889         0   \n",
       "Behr, Mr. Karl Howell                                       890         1   \n",
       "Dooley, Mr. Patrick                                         891         0   \n",
       "\n",
       "                                                    Pclass     Sex   Age  \\\n",
       "Name                                                                       \n",
       "Braund, Mr. Owen Harris                                  3    male  22.0   \n",
       "Cumings, Mrs. John Bradley (Florence Briggs Tha...       1  female  38.0   \n",
       "Heikkinen, Miss. Laina                                   3  female  26.0   \n",
       "Futrelle, Mrs. Jacques Heath (Lily May Peel)             1  female  35.0   \n",
       "Allen, Mr. William Henry                                 3    male  35.0   \n",
       "...                                                    ...     ...   ...   \n",
       "Montvila, Rev. Juozas                                    2    male  27.0   \n",
       "Graham, Miss. Margaret Edith                             1  female  19.0   \n",
       "Johnston, Miss. Catherine Helen \"Carrie\"                 3  female  19.0   \n",
       "Behr, Mr. Karl Howell                                    1    male  26.0   \n",
       "Dooley, Mr. Patrick                                      3    male  32.0   \n",
       "\n",
       "                                                    SibSp  Parch  \\\n",
       "Name                                                               \n",
       "Braund, Mr. Owen Harris                                 1      0   \n",
       "Cumings, Mrs. John Bradley (Florence Briggs Tha...      1      0   \n",
       "Heikkinen, Miss. Laina                                  0      0   \n",
       "Futrelle, Mrs. Jacques Heath (Lily May Peel)            1      0   \n",
       "Allen, Mr. William Henry                                0      0   \n",
       "...                                                   ...    ...   \n",
       "Montvila, Rev. Juozas                                   0      0   \n",
       "Graham, Miss. Margaret Edith                            0      0   \n",
       "Johnston, Miss. Catherine Helen \"Carrie\"                1      2   \n",
       "Behr, Mr. Karl Howell                                   0      0   \n",
       "Dooley, Mr. Patrick                                     0      0   \n",
       "\n",
       "                                                              Ticket     Fare  \\\n",
       "Name                                                                            \n",
       "Braund, Mr. Owen Harris                                    A/5 21171   7.2500   \n",
       "Cumings, Mrs. John Bradley (Florence Briggs Tha...          PC 17599  71.2833   \n",
       "Heikkinen, Miss. Laina                              STON/O2. 3101282   7.9250   \n",
       "Futrelle, Mrs. Jacques Heath (Lily May Peel)                  113803  53.1000   \n",
       "Allen, Mr. William Henry                                      373450   8.0500   \n",
       "...                                                              ...      ...   \n",
       "Montvila, Rev. Juozas                                         211536  13.0000   \n",
       "Graham, Miss. Margaret Edith                                  112053  30.0000   \n",
       "Johnston, Miss. Catherine Helen \"Carrie\"                  W./C. 6607  23.4500   \n",
       "Behr, Mr. Karl Howell                                         111369  30.0000   \n",
       "Dooley, Mr. Patrick                                           370376   7.7500   \n",
       "\n",
       "                                                   Cabin Embarked  \\\n",
       "Name                                                                \n",
       "Braund, Mr. Owen Harris                              NaN        S   \n",
       "Cumings, Mrs. John Bradley (Florence Briggs Tha...   C85        C   \n",
       "Heikkinen, Miss. Laina                               C85        S   \n",
       "Futrelle, Mrs. Jacques Heath (Lily May Peel)        C123        S   \n",
       "Allen, Mr. William Henry                            C123        S   \n",
       "...                                                  ...      ...   \n",
       "Montvila, Rev. Juozas                                C50        S   \n",
       "Graham, Miss. Margaret Edith                         B42        S   \n",
       "Johnston, Miss. Catherine Helen \"Carrie\"             B42        S   \n",
       "Behr, Mr. Karl Howell                               C148        C   \n",
       "Dooley, Mr. Patrick                                 C148        Q   \n",
       "\n",
       "                                                    is_passenger  \n",
       "Name                                                              \n",
       "Braund, Mr. Owen Harris                                     True  \n",
       "Cumings, Mrs. John Bradley (Florence Briggs Tha...          True  \n",
       "Heikkinen, Miss. Laina                                      True  \n",
       "Futrelle, Mrs. Jacques Heath (Lily May Peel)                True  \n",
       "Allen, Mr. William Henry                                    True  \n",
       "...                                                          ...  \n",
       "Montvila, Rev. Juozas                                       True  \n",
       "Graham, Miss. Margaret Edith                                True  \n",
       "Johnston, Miss. Catherine Helen \"Carrie\"                    True  \n",
       "Behr, Mr. Karl Howell                                       True  \n",
       "Dooley, Mr. Patrick                                         True  \n",
       "\n",
       "[891 rows x 12 columns]"
      ]
     },
     "execution_count": 137,
     "metadata": {},
     "output_type": "execute_result"
    }
   ],
   "source": [
    "titanic.isna()                    # returns boolean mask of NaN values\n",
    "titanic.dropna()                  # drop missing values\n",
    "titanic.dropna(how=\"any\")         # or how=\"all\"\n",
    "titanic.dropna(subset=[\"Cabin\"])  # only drop NaNs from one column\n",
    "titanic.fillna(0)                 # replace NaNs with zero\n",
    "titanic.fillna(method='ffill')    # forward-fill NaNs"
   ]
  },
  {
   "cell_type": "markdown",
   "metadata": {},
   "source": [
    "### **Exercises 1**"
   ]
  },
  {
   "cell_type": "code",
   "execution_count": 139,
   "metadata": {},
   "outputs": [
    {
     "data": {
      "text/plain": [
       "29.875"
      ]
     },
     "execution_count": 139,
     "metadata": {},
     "output_type": "execute_result"
    }
   ],
   "source": [
    "# Compute the mean age of the first 10 passengers by slicing and the pandas.DataFrame.mean() method:\n",
    "titanic.iloc[:9][\"Age\"].mean()"
   ]
  },
  {
   "cell_type": "code",
   "execution_count": 154,
   "metadata": {},
   "outputs": [],
   "source": [
    "# Advanced: using boolean indexing, compute the survival rate (mean of “Survived” values) among passengers over and under the average age"
   ]
  }
 ],
 "metadata": {
  "kernelspec": {
   "display_name": "Python 3 (ipykernel)",
   "language": "python",
   "name": "python3"
  },
  "language_info": {
   "codemirror_mode": {
    "name": "ipython",
    "version": 3
   },
   "file_extension": ".py",
   "mimetype": "text/x-python",
   "name": "python",
   "nbconvert_exporter": "python",
   "pygments_lexer": "ipython3",
   "version": "3.9.13"
  }
 },
 "nbformat": 4,
 "nbformat_minor": 4
}
