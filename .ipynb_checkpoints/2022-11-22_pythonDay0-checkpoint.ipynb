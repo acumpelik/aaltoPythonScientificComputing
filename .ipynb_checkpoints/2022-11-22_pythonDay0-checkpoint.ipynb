{
 "cells": [
  {
   "cell_type": "markdown",
   "id": "ccad2330-94ec-453d-9d55-67e160487c2c",
   "metadata": {},
   "source": [
    "# Day 0: Python refresher\n",
    "[[course link](https://coderefinery.github.io/data-visualization-python/python-basics/)]"
   ]
  },
  {
   "cell_type": "markdown",
   "id": "41d97e2a-48db-4b3f-98fb-81cc9ff4df9f",
   "metadata": {},
   "source": [
    "**Lists**"
   ]
  },
  {
   "cell_type": "code",
   "execution_count": 43,
   "id": "8e8d1d25-a33e-4964-8161-ab9229bfd3cb",
   "metadata": {},
   "outputs": [
    {
     "name": "stdout",
     "output_type": "stream",
     "text": [
      "[] ['a', 'b', 'c', 'd'] ['a', 'b', 'c'] [1, 2, 3] [0, 1, 2, 3, 4, 5, 6, 7, 8, 9] [0, 5, 10, 15, 20, 25] ['a', 1, 'b', 2, 'c', 3]\n",
      "a\n",
      "b\n",
      "c\n",
      "d\n"
     ]
    }
   ],
   "source": [
    "emptyList = []\n",
    "emptyList = list()\n",
    "list1 = ['a', 'b', 'c']\n",
    "list1_shortened = list('abc')\n",
    "list2 = list((1,2,3))\n",
    "list3 = list(range(10))\n",
    "list4 = list(range(0, 30, 5))\n",
    "list5 = ['a',1,'b',2,'c',3]\n",
    "\n",
    "list1.append('d')\n",
    "list3.sort()\n",
    "\n",
    "print(emptyList,\n",
    "      list1,\n",
    "      list1_shortened,\n",
    "      list2,\n",
    "      list3,\n",
    "      list4,\n",
    "      list5,\n",
    "     )\n",
    "\n",
    "for item in list1:\n",
    "    print(item)"
   ]
  },
  {
   "cell_type": "markdown",
   "id": "ccb2a1b0-2773-4be0-a3ec-ad2697a5e975",
   "metadata": {},
   "source": [
    "**Tuples**\n",
    "<br>\n",
    "Look similar to lists, but the main difference is that tuples are **immutable**. There are other minor differences."
   ]
  },
  {
   "cell_type": "code",
   "execution_count": 44,
   "id": "77f2fc6d-9b18-46b9-bce8-2123975133d3",
   "metadata": {},
   "outputs": [
    {
     "name": "stdout",
     "output_type": "stream",
     "text": [
      "()\n",
      "('a', 'b', 'c')\n",
      "('a', 'b', 'c')\n",
      "('a', 1, 'b', 2, 'c', 3)\n"
     ]
    }
   ],
   "source": [
    "print(tuple())\n",
    "print(tuple('abc'))\n",
    "print(tuple(['a','b','c']))\n",
    "print(tuple(['a',1,'b',2,'c',3]))"
   ]
  },
  {
   "cell_type": "markdown",
   "id": "370c7769-5068-4bc5-af24-3262568cd83d",
   "metadata": {},
   "source": [
    "**Dictionaries** <br>\n",
    "Mapping a key to a value"
   ]
  },
  {
   "cell_type": "code",
   "execution_count": 51,
   "id": "31f095f1-9a57-44a3-845d-d1a88f2e04c4",
   "metadata": {},
   "outputs": [
    {
     "name": "stdout",
     "output_type": "stream",
     "text": [
      "{'one': 1, 'two': 2, 'three': 3} {'one': 1, 'two': 2, 'three': 3} {'Russia': 'Moscow', 'Germany': 'Berlin', 'Ukraine': 'Kyiv', 'Czech Republic': 'Prague'}\n",
      "Russia\n",
      "Germany\n",
      "Ukraine\n",
      "Czech Republic\n",
      "The capital of Russia is Moscow\n",
      "The capital of Germany is Berlin\n",
      "The capital of Ukraine is Kyiv\n",
      "The capital of Czech Republic is Prague\n"
     ]
    }
   ],
   "source": [
    "dict1 = dict(one=1, two=2, three=3)\n",
    "dict2 = {'one': 1, 'two': 2, 'three': 3}\n",
    "dict3 = dict(zip(['Russia', 'Germany', 'Ukraine'], ['Moscow', 'Berlin', 'Kyiv']))\n",
    "\n",
    "dict3['Czech Republic'] = 'Prague'\n",
    "\n",
    "print(\n",
    "    dict1,\n",
    "    dict2,\n",
    "    dict3,\n",
    ")\n",
    "\n",
    "for key in dict3:\n",
    "    print(key)\n",
    "\n",
    "for (key, value) in dict3.items():\n",
    "    print(\"The capital of\", key, 'is', value)"
   ]
  },
  {
   "cell_type": "markdown",
   "id": "70655516-4bac-4e07-8b78-cf4861291314",
   "metadata": {},
   "source": [
    "**Sets** <br>\n",
    "Sets are mutable, but do not allow duplicate values."
   ]
  },
  {
   "cell_type": "code",
   "execution_count": 60,
   "id": "e5b80f64-8c04-4de1-bcf2-ef9fa74c39e2",
   "metadata": {},
   "outputs": [
    {
     "name": "stdout",
     "output_type": "stream",
     "text": [
      "() {1, 2, 3, 'a', 'b', 'c'} {1, 2, 3, 'a', 'b', 'c'} {1, 2, 3, 'a', 'b', 'c'}\n"
     ]
    }
   ],
   "source": [
    "emptySet = ()\n",
    "set1 = set(['a',1,'b',2,'c',3])\n",
    "set2 = set(['a',1,'b',2,'c',3, 'a',1,'b',2,'c',3])\n",
    "set3 = {'a',1,'b',2,'c',3, 'a',1,'b',2,'c',3}\n",
    "\n",
    "print(\n",
    "    emptySet,\n",
    "    set1,\n",
    "    set2,\n",
    "    set3,\n",
    ")"
   ]
  },
  {
   "cell_type": "markdown",
   "id": "fca8f5f3-8b19-4355-bfb7-8fa8f849525c",
   "metadata": {},
   "source": [
    "**Functions**"
   ]
  },
  {
   "cell_type": "code",
   "execution_count": 61,
   "id": "2b449014-07f7-4df9-bc42-022ea82748e7",
   "metadata": {},
   "outputs": [
    {
     "data": {
      "text/plain": [
       "5"
      ]
     },
     "execution_count": 61,
     "metadata": {},
     "output_type": "execute_result"
    }
   ],
   "source": [
    "def add(a,b):\n",
    "    result = a + b\n",
    "    return result\n",
    "\n",
    "add(2,3)"
   ]
  },
  {
   "cell_type": "markdown",
   "id": "ff217471-c5b6-4e65-9f8e-d2683c5b3bbf",
   "metadata": {},
   "source": [
    "#### **Exercises**"
   ]
  },
  {
   "cell_type": "markdown",
   "id": "b1d66eb9-d181-4d02-be3b-f2ad0847e4fc",
   "metadata": {},
   "source": [
    "Exercise 1A: create a function that computes the standard deviation"
   ]
  },
  {
   "cell_type": "code",
   "execution_count": 76,
   "id": "78e773f8-06f2-46fe-a51f-5e13870c4aae",
   "metadata": {},
   "outputs": [
    {
     "data": {
      "text/plain": [
       "2.8722813232690143"
      ]
     },
     "execution_count": 76,
     "metadata": {},
     "output_type": "execute_result"
    }
   ],
   "source": [
    "def arithmetic_mean(sequence):\n",
    "    s = 0.0\n",
    "    for element in sequence:\n",
    "        s += element\n",
    "    n = len(sequence)\n",
    "    return s/n\n",
    "\n",
    "def standard_deviation(sequence):\n",
    "    mean = arithmetic_mean(sequence)\n",
    "    s = 0.0\n",
    "    for element in sequence:\n",
    "        s += (element - mean)**2\n",
    "    n = len(sequence)\n",
    "    return (s / n) ** 0.5\n",
    "\n",
    "measurements = list(range(1, 11))\n",
    "\n",
    "standard_deviation(measurements)"
   ]
  },
  {
   "cell_type": "markdown",
   "id": "a13478b4-a089-4553-acd1-15daba9acc27",
   "metadata": {},
   "source": [
    "A more compact solution:"
   ]
  },
  {
   "cell_type": "code",
   "execution_count": 79,
   "id": "c7dd9df5-e35c-429a-bab1-729cfdf08fd8",
   "metadata": {},
   "outputs": [
    {
     "data": {
      "text/plain": [
       "2.8722813232690143"
      ]
     },
     "execution_count": 79,
     "metadata": {},
     "output_type": "execute_result"
    }
   ],
   "source": [
    "def standard_deviation(sequence):\n",
    "    mean = arithmetic_mean(sequence)\n",
    "    s = sum([(x - mean) ** 2 for x in sequence])\n",
    "    n = len(sequence)\n",
    "    return (s / n) ** 0.5\n",
    "\n",
    "standard_deviation(measurements)"
   ]
  },
  {
   "cell_type": "markdown",
   "id": "a7065105-5ab8-4af0-a147-74b8ad16fdc5",
   "metadata": {},
   "source": [
    "Exercise 1B: working with a dictionary"
   ]
  },
  {
   "cell_type": "code",
   "execution_count": 90,
   "id": "7ad22698-915d-48c1-922f-2b68dc9e9eef",
   "metadata": {},
   "outputs": [
    {
     "name": "stdout",
     "output_type": "stream",
     "text": [
      "{'Alice': 98, 'Bob': 95, 'Carl': 70}\n",
      "dict_keys(['Alice', 'Bob', 'Carl'])\n",
      "dict_values([98, 95, 70])\n",
      "dict_items([('Alice', 98), ('Bob', 95), ('Carl', 70)])\n"
     ]
    }
   ],
   "source": [
    "grades = {'Alice': 80, 'Bob': 95}\n",
    "grades['Carl'] = 70\n",
    "grades['Alice'] = 98\n",
    "\n",
    "print(grades)\n",
    "grades['Bob']\n",
    "# grades['Eva']\n",
    "\n",
    "print(grades.keys())\n",
    "print(grades.values())\n",
    "print(grades.items())"
   ]
  },
  {
   "cell_type": "markdown",
   "id": "d711cd30-f540-4360-9023-8c7dd269caef",
   "metadata": {},
   "source": [
    "Optional exercise 2: removing duplicates"
   ]
  },
  {
   "cell_type": "code",
   "execution_count": 98,
   "id": "5301897a-52a5-4349-9c1b-7ce5742932da",
   "metadata": {},
   "outputs": [
    {
     "data": {
      "text/plain": [
       "[1, 2, 3, 4, 13, 14, 17]"
      ]
     },
     "execution_count": 98,
     "metadata": {},
     "output_type": "execute_result"
    }
   ],
   "source": [
    "measurements = [2, 2, 1, 17, 3, 3, 2, 1, 13, 14, 17, 14, 4]\n",
    "\n",
    "# Write a function that removes duplicates:\n",
    "def remove_dups(measurements):\n",
    "    measurements_sorted = list(set(measurements))\n",
    "    return measurements_sorted\n",
    "\n",
    "remove_dups(measurements)"
   ]
  },
  {
   "cell_type": "markdown",
   "id": "3ca49a08-2ca8-4f9b-8ddc-6571e5d3376d",
   "metadata": {},
   "source": [
    "Optional exercise 3: write a function that counts how often an item appears"
   ]
  },
  {
   "cell_type": "code",
   "execution_count": 130,
   "id": "6d668227-2080-444a-b5d4-217a9f7b6e62",
   "metadata": {},
   "outputs": [
    {
     "data": {
      "text/plain": [
       "{1: 2, 2: 3, 3: 2, 4: 1, 13: 1, 14: 2, 17: 2}"
      ]
     },
     "execution_count": 130,
     "metadata": {},
     "output_type": "execute_result"
    }
   ],
   "source": [
    "measurements = [2, 2, 1, 17, 3, 3, 2, 1, 13, 14, 17, 14, 4]\n",
    "\n",
    "def count_items(measurements):\n",
    "    unique = set(measurements)\n",
    "    count = [measurements.count(x) for x in unique]\n",
    "    dict_count = dict(zip(unique, count))\n",
    "    return dict_count\n",
    "\n",
    "count_items(measurements)"
   ]
  }
 ],
 "metadata": {
  "kernelspec": {
   "display_name": "Python 3 (ipykernel)",
   "language": "python",
   "name": "python3"
  },
  "language_info": {
   "codemirror_mode": {
    "name": "ipython",
    "version": 3
   },
   "file_extension": ".py",
   "mimetype": "text/x-python",
   "name": "python",
   "nbconvert_exporter": "python",
   "pygments_lexer": "ipython3",
   "version": "3.9.13"
  }
 },
 "nbformat": 4,
 "nbformat_minor": 5
}
